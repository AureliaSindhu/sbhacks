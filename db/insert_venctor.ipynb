{
 "cells": [
  {
   "cell_type": "code",
   "execution_count": 82,
   "metadata": {},
   "outputs": [],
   "source": [
    "import singlestoredb\n",
    "import json\n",
    "import numpy as np\n",
    "import sys\n",
    "import os\n",
    "import logging"
   ]
  },
  {
   "cell_type": "code",
   "execution_count": 83,
   "metadata": {},
   "outputs": [],
   "source": [
    "logging.basicConfig(\n",
    "    level=logging.INFO,\n",
    "    format='%(asctime)s - %(levelname)s - %(message)s',\n",
    "    handlers=[\n",
    "        logging.StreamHandler(sys.stdout)\n",
    "    ]\n",
    ")"
   ]
  },
  {
   "cell_type": "code",
   "execution_count": 84,
   "metadata": {},
   "outputs": [],
   "source": [
    "# 1. Set Environment Variables\n",
    "os.environ['SINGLESTORE_HOST'] = 'svc-3482219c-a389-4079-b18b-d50662524e8a-shared-dml.aws-virginia-6.svc.singlestore.com'\n",
    "os.environ['SINGLESTORE_PORT'] = '3333'\n",
    "os.environ['SINGLESTORE_USER'] = 'sb'\n",
    "os.environ['SINGLESTORE_PASSWORD'] = '1qus8i7myhm3NUQS0TX0dFoge7lvA1ip'\n",
    "os.environ['SINGLESTORE_DATABASE'] = 'db_aurelia_7d548'\n",
    "\n",
    "HOST = os.getenv('SINGLESTORE_HOST')\n",
    "PORT = int(os.getenv('SINGLESTORE_PORT', 3306))\n",
    "USER = os.getenv('SINGLESTORE_USER')\n",
    "PASSWORD = os.getenv('SINGLESTORE_PASSWORD')\n",
    "DATABASE = os.getenv('SINGLESTORE_DATABASE')"
   ]
  },
  {
   "cell_type": "code",
   "execution_count": 85,
   "metadata": {},
   "outputs": [],
   "source": [
    "# Validate that all parameters are available\n",
    "if not all([HOST, PORT, USER, PASSWORD, DATABASE]):\n",
    "    logging.error(\"One or more environment variables for connection parameters are missing.\")\n",
    "    sys.exit(1)"
   ]
  },
  {
   "cell_type": "code",
   "execution_count": 86,
   "metadata": {},
   "outputs": [
    {
     "name": "stdout",
     "output_type": "stream",
     "text": [
      "2025-01-12 04:35:35,213 - INFO - Successfully connected to SingleStore.\n"
     ]
    }
   ],
   "source": [
    "# 3. Establish Connection to SingleStore\n",
    "try:\n",
    "    connection = singlestoredb.connect(\n",
    "        host=HOST,\n",
    "        port=PORT,\n",
    "        user=USER,\n",
    "        password=PASSWORD,\n",
    "        database=DATABASE\n",
    "    )\n",
    "    cursor = connection.cursor()\n",
    "    logging.info(\"Successfully connected to SingleStore.\")\n",
    "except singlestoredb.Error as e:\n",
    "    logging.error(f\"SingleStore Error: {e}\")\n",
    "    sys.exit(1)\n",
    "except Exception as e:\n",
    "    logging.error(f\"Unexpected Error: {e}\")\n",
    "    sys.exit(1)\n"
   ]
  },
  {
   "cell_type": "code",
   "execution_count": null,
   "metadata": {},
   "outputs": [
    {
     "name": "stdout",
     "output_type": "stream",
     "text": [
      "2025-01-12 04:35:35,619 - INFO - Table 'vectors_table' is ready.\n"
     ]
    }
   ],
   "source": [
    "# 4. Create Table with Vector and Metadata Columns\n",
    "delete_table_query = \"\"\"\n",
    "DROP TABLE vectors_table;\n",
    "\"\"\"\n",
    "\n",
    "create_table_query = \"\"\"\n",
    "CREATE TABLE IF NOT EXISTS vectors_table (\n",
    "    id INT AUTO_INCREMENT PRIMARY KEY,\n",
    "    vector BLOB NOT NULL,\n",
    "    file_name VARCHAR(255) NOT NULL,\n",
    "    summary VARCHAR(255) NOT NULL,\n",
    "    content VARCHAR(255) NOT NULL\n",
    ");\n",
    "\"\"\"\n",
    "\n",
    "try:\n",
    "    cursor.execute(delete_table_query)\n",
    "    cursor.execute(create_table_query)\n",
    "    connection.commit()\n",
    "    logging.info(\"Table 'vectors_table' is ready.\")\n",
    "except singlestoredb.Error as e:\n",
    "    logging.error(f\"SingleStore Error while creating table: {e}\")\n",
    "    cursor.close()\n",
    "    connection.close()\n",
    "    sys.exit(1)\n",
    "except Exception as e:\n",
    "    logging.error(f\"Unexpected Error while creating table: {e}\")\n",
    "    cursor.close()\n",
    "    connection.close()\n",
    "    sys.exit(1)"
   ]
  },
  {
   "cell_type": "code",
   "execution_count": 88,
   "metadata": {},
   "outputs": [
    {
     "name": "stdout",
     "output_type": "stream",
     "text": [
      "2025-01-12 04:35:35,743 - ERROR - SingleStore Error while inserting data: 1128: Function 'db_aurelia_7d548.vector' is not defined\n"
     ]
    },
    {
     "ename": "SystemExit",
     "evalue": "1",
     "output_type": "error",
     "traceback": [
      "An exception has occurred, use %tb to see the full traceback.\n",
      "\u001b[0;31mSystemExit\u001b[0m\u001b[0;31m:\u001b[0m 1\n"
     ]
    }
   ],
   "source": [
    "# 5. Prepare Multiple Vectors and Metadata for Bulk Insert\n",
    "vector_dimension = 5\n",
    "\n",
    "# Example list of vectors and metadata\n",
    "data_to_insert = [\n",
    "    (np.random.rand(vector_dimension).tolist(), \"file_name\", \"summary\", \"content\"),\n",
    "    (np.random.rand(vector_dimension).tolist(), \"file_name1\", \"summary1\", \"content1\"),\n",
    "    (np.random.rand(vector_dimension).tolist(), \"file_name2\", \"summary2\", \"content2\"),\n",
    "    (np.random.rand(vector_dimension).tolist(), \"file_name3\", \"summary3\", \"content3\"),\n",
    "    (np.random.rand(vector_dimension).tolist(), \"file_name4\", \"summary4\", \"content4\")\n",
    "]\n",
    "\n",
    "# Prepare and format data for insertion\n",
    "formatted_data = []\n",
    "for data in data_to_insert:\n",
    "    vector = data[0]\n",
    "    file_name = data[1]\n",
    "    summary = data[2]\n",
    "    content = data[3]\n",
    "    \n",
    "    if len(vector) != vector_dimension:\n",
    "        logging.error(f\"Vector dimensionality mismatch: expected {vector_dimension}, got {len(vector)}\")\n",
    "        cursor.close()\n",
    "        connection.close()\n",
    "        sys.exit(1)\n",
    "    \n",
    "    # Ensure the vector is a JSON array\n",
    "    vector_json = json.dumps(vector)\n",
    "    formatted_data.append((vector_json, file_name, summary, content))\n",
    "\n",
    "# Bulk Insert Data into the Table\n",
    "insert_query = \"\"\"\n",
    "INSERT INTO vectors_table (vector, file_name, summary, content)\n",
    "VALUES (VECTOR(JSON_ARRAY_PACK(%s)), %s, %s, %s);\n",
    "\"\"\"\n",
    "\n",
    "try:\n",
    "    cursor.executemany(insert_query, formatted_data)\n",
    "    connection.commit()\n",
    "    logging.info(f\"Inserted {cursor.rowcount} rows successfully into 'vectors_table'.\")\n",
    "except singlestoredb.Error as e:\n",
    "    logging.error(f\"SingleStore Error while inserting data: {e}\")\n",
    "    cursor.close()\n",
    "    connection.close()\n",
    "    sys.exit(1)\n",
    "except Exception as e:\n",
    "    logging.error(f\"Unexpected Error while inserting data: {e}\")\n",
    "    cursor.close()\n",
    "    connection.close()\n",
    "    sys.exit(1)"
   ]
  },
  {
   "cell_type": "code",
   "execution_count": 67,
   "metadata": {},
   "outputs": [
    {
     "name": "stdout",
     "output_type": "stream",
     "text": [
      "2025-01-12 04:34:08,774 - INFO - Performing a mock search with a random query vector...\n",
      "2025-01-12 04:34:08,775 - INFO - Query vector: [0.567389708075088, 0.027577619187354796, 0.3421823434073791, 0.15645516366942647, 0.5313828253357159]\n",
      "2025-01-12 04:34:08,859 - ERROR - SingleStore Error while searching vectors: 1128: Function 'db_aurelia_7d548.vector' is not defined\n",
      "2025-01-12 04:34:08,862 - INFO - No results found.\n",
      "2025-01-12 04:34:08,864 - INFO - Connection to SingleStore closed.\n"
     ]
    }
   ],
   "source": [
    "def search_vectors(query_vector, top_t=5):\n",
    "    if isinstance(query_vector, np.ndarray):\n",
    "        query_vector = query_vector.tolist()\n",
    "    elif not isinstance(query_vector, list):\n",
    "        logging.error(\"Query vector must be a list or numpy array.\")\n",
    "        return []\n",
    "    if len(query_vector) != vector_dimension:\n",
    "        logging.error(f\"Vector dimensionality mismatch: expected {vector_dimension}, got {len(query_vector)}\")\n",
    "        return []\n",
    "\n",
    "    # Construct the VECTOR literal\n",
    "    vector_literal = ', '.join(map(str, query_vector))\n",
    "\n",
    "    # SQL query to compute cosine similarity and retrieve top_t vectors\n",
    "    # SingleStore's HNSW index optimizes this search\n",
    "    search_query = f\"\"\"\n",
    "    SELECT \n",
    "        id, \n",
    "        COSINE_SIMILARITY(vector, VECTOR({vector_literal})) AS similarity,\n",
    "        metadata\n",
    "    FROM vectors_table\n",
    "    ORDER BY similarity DESC\n",
    "    LIMIT {top_t};\n",
    "    \"\"\"\n",
    "    try:\n",
    "        cursor.execute(search_query)\n",
    "        results = cursor.fetchall()\n",
    "        return results\n",
    "    except singlestoredb.Error as e:\n",
    "        logging.error(f\"SingleStore Error while searching vectors: {e}\")\n",
    "        return []\n",
    "    except Exception as e:\n",
    "        logging.error(f\"Unexpected Error while searching vectors: {e}\")\n",
    "        return []\n",
    "\n",
    "# 7. Mock a Search\n",
    "def mock_search():\n",
    "    query_vector = np.random.rand(vector_dimension).tolist()\n",
    "    top_t = 3\n",
    "    logging.info(\"Performing a mock search with a random query vector...\")\n",
    "    logging.info(f\"Query vector: {query_vector}\")\n",
    "    results = search_vectors(query_vector, top_t)\n",
    "    if not results:\n",
    "        logging.info(\"No results found.\")\n",
    "        return\n",
    "    logging.info(f\"Top {top_t} similar vectors:\")\n",
    "    for row in results:\n",
    "        vector_id, similarity, metadata_json = row\n",
    "        metadata = json.loads(metadata_json)\n",
    "        logging.info(f\"ID: {vector_id}, Similarity: {similarity:.4f}, Metadata: {metadata}\")\n",
    "\n",
    "mock_search()\n",
    "\n",
    "# 8. Clean Up\n",
    "cursor.close()\n",
    "connection.close()\n",
    "logging.info(\"Connection to SingleStore closed.\")\n"
   ]
  }
 ],
 "metadata": {
  "kernelspec": {
   "display_name": "sbhacks2",
   "language": "python",
   "name": "python3"
  },
  "language_info": {
   "codemirror_mode": {
    "name": "ipython",
    "version": 3
   },
   "file_extension": ".py",
   "mimetype": "text/x-python",
   "name": "python",
   "nbconvert_exporter": "python",
   "pygments_lexer": "ipython3",
   "version": "3.12.2"
  }
 },
 "nbformat": 4,
 "nbformat_minor": 2
}
