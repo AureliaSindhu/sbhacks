{
 "cells": [
  {
   "cell_type": "code",
   "execution_count": null,
   "metadata": {},
   "outputs": [],
   "source": [
    "import singlestoredb\n",
    "import json\n",
    "import numpy as np\n",
    "import sys\n",
    "import os\n",
    "import logging"
   ]
  },
  {
   "cell_type": "code",
   "execution_count": null,
   "metadata": {},
   "outputs": [],
   "source": [
    "logging.basicConfig(\n",
    "    level=logging.INFO,\n",
    "    format='%(asctime)s - %(levelname)s - %(message)s',\n",
    "    handlers=[\n",
    "        logging.StreamHandler(sys.stdout)\n",
    "    ]\n",
    ")"
   ]
  },
  {
   "cell_type": "code",
   "execution_count": null,
   "metadata": {},
   "outputs": [],
   "source": [
    "# 1. Set Environment Variables\n",
    "HOST = os.getenv('SINGLESTORE_HOST')\n",
    "PORT = int(os.getenv('SINGLESTORE_PORT', 3306))\n",
    "USER = os.getenv('SINGLESTORE_USER')\n",
    "PASSWORD = os.getenv('SINGLESTORE_PASSWORD')\n",
    "DATABASE = os.getenv('SINGLESTORE_DATABASE')"
   ]
  },
  {
   "cell_type": "code",
   "execution_count": null,
   "metadata": {},
   "outputs": [],
   "source": [
    "# Validate that all parameters are available\n",
    "if not all([HOST, PORT, USER, PASSWORD, DATABASE]):\n",
    "    logging.error(\"One or more environment variables for connection parameters are missing.\")\n",
    "    sys.exit(1)"
   ]
  },
  {
   "cell_type": "code",
   "execution_count": null,
   "metadata": {},
   "outputs": [],
   "source": [
    "# 3. Establish Connection to SingleStore\n",
    "try:\n",
    "    connection = singlestoredb.connect(\n",
    "        host=HOST,\n",
    "        port=PORT,\n",
    "        user=USER,\n",
    "        password=PASSWORD,\n",
    "        database=DATABASE\n",
    "    )\n",
    "    cursor = connection.cursor()\n",
    "    logging.info(\"Successfully connected to SingleStore.\")\n",
    "except singlestoredb.Error as e:\n",
    "    logging.error(f\"SingleStore Error: {e}\")\n",
    "    sys.exit(1)\n",
    "except Exception as e:\n",
    "    logging.error(f\"Unexpected Error: {e}\")\n",
    "    sys.exit(1)\n"
   ]
  },
  {
   "cell_type": "code",
   "execution_count": null,
   "metadata": {},
   "outputs": [],
   "source": [
    "# 4. Create Table with Vector and Metadata Columns\n",
    "create_table_query = \"\"\"\n",
    "CREATE TABLE IF NOT EXISTS vectors_table (\n",
    "    id INT AUTO_INCREMENT PRIMARY KEY,\n",
    "    vector VECTOR(128) NOT NULL,  -- Adjust the dimension as needed\n",
    "    metadata JSON\n",
    ");\n",
    "\"\"\"\n",
    "\n",
    "try:\n",
    "    cursor.execute(create_table_query)\n",
    "    connection.commit()\n",
    "    logging.info(\"Table 'vectors_table' is ready.\")\n",
    "except singlestoredb.Error as e:\n",
    "    logging.error(f\"SingleStore Error while creating table: {e}\")\n",
    "    cursor.close()\n",
    "    connection.close()\n",
    "    sys.exit(1)\n",
    "except Exception as e:\n",
    "    logging.error(f\"Unexpected Error while creating table: {e}\")\n",
    "    cursor.close()\n",
    "    connection.close()\n",
    "    sys.exit(1)"
   ]
  },
  {
   "cell_type": "code",
   "execution_count": null,
   "metadata": {},
   "outputs": [],
   "source": [
    "# 5. Prepare Multiple Vectors and Metadata for Bulk Insert\n",
    "vector_dimension = 128\n",
    "\n",
    "# Example list of vectors and metadata\n",
    "data_to_insert = [\n",
    "    (np.random.rand(vector_dimension).tolist(), {\"name\": \"vector1\", \"description\": \"test vector 1\"}),\n",
    "    (np.random.rand(vector_dimension).tolist(), {\"name\": \"vector2\", \"description\": \"test vector 2\"}),\n",
    "    (np.random.rand(vector_dimension).tolist(), {\"name\": \"vector3\", \"description\": \"test vector 3\"}),\n",
    "    (np.random.rand(vector_dimension).tolist(), {\"name\": \"vector4\", \"description\": \"test vector 4\"}),\n",
    "    (np.random.rand(vector_dimension).tolist(), {\"name\": \"vector5\", \"description\": \"test vector 5\"})\n",
    "]\n",
    "\n",
    "# Prepare and format data for insertion\n",
    "formatted_data = []\n",
    "for vector, metadata in data_to_insert:\n",
    "    if len(vector) != vector_dimension:\n",
    "        logging.error(f\"Vector dimensionality mismatch: expected {vector_dimension}, got {len(vector)}\")\n",
    "        cursor.close()\n",
    "        connection.close()\n",
    "        sys.exit(1)\n",
    "    \n",
    "    # Ensure the vector is a JSON array\n",
    "    vector_json = json.dumps(vector)\n",
    "    formatted_data.append((vector_json, json.dumps(metadata)))\n",
    "\n",
    "# Bulk Insert Data into the Table\n",
    "insert_query = \"\"\"\n",
    "INSERT INTO vectors_table (vector, metadata)\n",
    "VALUES (%s, %s);\n",
    "\"\"\"\n",
    "\n",
    "try:\n",
    "    cursor.executemany(insert_query, formatted_data)\n",
    "    connection.commit()\n",
    "    logging.info(f\"Inserted {cursor.rowcount} rows successfully into 'vectors_table'.\")\n",
    "except singlestoredb.Error as e:\n",
    "    logging.error(f\"SingleStore Error while inserting data: {e}\")\n",
    "    cursor.close()\n",
    "    connection.close()\n",
    "    sys.exit(1)\n",
    "except Exception as e:\n",
    "    logging.error(f\"Unexpected Error while inserting data: {e}\")\n",
    "    cursor.close()\n",
    "    connection.close()\n",
    "    sys.exit(1)"
   ]
  }
 ],
 "metadata": {
  "kernelspec": {
   "display_name": "Python 3",
   "language": "python",
   "name": "python3"
  },
  "language_info": {
   "name": "python",
   "version": "3.12.3"
  }
 },
 "nbformat": 4,
 "nbformat_minor": 2
}
