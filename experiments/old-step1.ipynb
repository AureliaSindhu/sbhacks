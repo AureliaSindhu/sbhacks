{
 "cells": [
  {
   "cell_type": "code",
   "execution_count": 1,
   "metadata": {},
   "outputs": [],
   "source": [
    "import sycamore\n",
    "import os\n",
    "import openai\n",
    "from sycamore.transforms.partition import ArynPartitioner\n",
    "from dotenv import load_dotenv\n",
    "\n",
    "load_dotenv()  # take environment variables from .env.\n",
    "\n",
    "# Code of your application, which uses environment variables (e.g. from `os.environ` or\n",
    "# `os.getenv`) as if they came from the actual environment.\n",
    "\n",
    "# Initializng sycamore which also initializes Ray underneath\n",
    "context = sycamore.init()"
   ]
  },
  {
   "cell_type": "code",
   "execution_count": 2,
   "metadata": {},
   "outputs": [],
   "source": [
    "docset = context.read.binary(\n",
    "            paths=[\"data/Oscillations.pdf\"], \n",
    "            binary_format=\"pdf\"\n",
    "            ).partition(\n",
    "                partitioner=ArynPartitioner(\n",
    "                    extract_table_structure=True,\n",
    "                    aryn_api_key = os.getenv(\"ARYN_API_KEY\"),\n",
    "                    use_ocr=True,\n",
    "                    ocr_images=True\n",
    "                )\n",
    "            )\n"
   ]
  },
  {
   "cell_type": "code",
   "execution_count": 3,
   "metadata": {},
   "outputs": [
    {
     "name": "stderr",
     "output_type": "stream",
     "text": [
      "2025-01-12 07:55:07,699\tINFO worker.py:1812 -- Started a local Ray instance. View the dashboard at \u001b[1m\u001b[32mhttp://127.0.0.1:8266 \u001b[39m\u001b[22m\n",
      "(pid=37008) INFO:root:Spurious log 1: Verifying that log messages are propagated\n",
      "2025-01-12 07:55:17,740\tWARNING util.py:587 -- The argument ``compute`` is deprecated in Ray 2.9. Please specify argument ``concurrency`` instead. For more information, see https://docs.ray.io/en/master/data/transforming-data.html#stateful-transforms.\n",
      "2025-01-12 07:55:17,751\tINFO streaming_executor.py:108 -- Starting execution of Dataset. Full logs are in C:\\Users\\aurel\\AppData\\Local\\Temp\\ray\\session_2025-01-12_07-55-02_610341_12164\\logs\\ray-data\n",
      "2025-01-12 07:55:17,753\tINFO streaming_executor.py:109 -- Execution plan of Dataset: InputDataBuffer[Input] -> TaskPoolMapOperator[ReadBinary] -> ActorPoolMapOperator[Map(BinaryScan._to_document)->MapBatches(BaseMapTransformCallable___wrap)]\n"
     ]
    },
    {
     "data": {
      "application/vnd.jupyter.widget-view+json": {
       "model_id": "561d00a3f35d4cf3954851edba1528d1",
       "version_major": 2,
       "version_minor": 0
      },
      "text/plain": [
       "Running 0: 0.00 row [00:00, ? row/s]"
      ]
     },
     "metadata": {},
     "output_type": "display_data"
    },
    {
     "name": "stderr",
     "output_type": "stream",
     "text": [
      "(pid=37116) INFO:root:Spurious log 1: Verifying that log messages are propagated\n"
     ]
    },
    {
     "data": {
      "application/vnd.jupyter.widget-view+json": {
       "model_id": "d6161119467a412daea852bb349fd1e4",
       "version_major": 2,
       "version_minor": 0
      },
      "text/plain": [
       "- ReadBinary->SplitBlocks(28) 1: 0.00 row [00:00, ? row/s]"
      ]
     },
     "metadata": {},
     "output_type": "display_data"
    },
    {
     "data": {
      "application/vnd.jupyter.widget-view+json": {
       "model_id": "9c688084a8544fb29356496d22022b6a",
       "version_major": 2,
       "version_minor": 0
      },
      "text/plain": [
       "- Map(BinaryScan._to_document)->MapBatches(BaseMapTransformCallable___wrap) 2: 0.00 row [00:00, ? row/s]"
      ]
     },
     "metadata": {},
     "output_type": "display_data"
    },
    {
     "name": "stderr",
     "output_type": "stream",
     "text": [
      "(pid=37240) INFO:root:Spurious log 1: Verifying that log messages are propagated\n",
      "(MapWorker(Map(BinaryScan._to_document)->MapBatches(BaseMapTransformCallable___wrap)) pid=37116) INFO:sycamore.transforms.detr_partitioner:ArynPartitioner: T+   0.00: Server version aryn-partitioner-0.20241226.161207 Model version 1.4\n",
      "(MapWorker(Map(BinaryScan._to_document)->MapBatches(BaseMapTransformCallable___wrap)) pid=37116) INFO:sycamore.transforms.detr_partitioner:ArynPartitioner: T+   0.00: Received request with aryn_call_id=4196aa32-a51d-4182-b85c-78ac3c949608\n",
      "(MapWorker(Map(BinaryScan._to_document)->MapBatches(BaseMapTransformCallable___wrap)) pid=37116) INFO:sycamore.transforms.detr_partitioner:ArynPartitioner: T+   0.00: Waiting for scheduling\n",
      "(MapWorker(Map(BinaryScan._to_document)->MapBatches(BaseMapTransformCallable___wrap)) pid=37116) INFO:sycamore.transforms.detr_partitioner:ArynPartitioner: T+   0.01: Preprocessing document\n",
      "(MapWorker(Map(BinaryScan._to_document)->MapBatches(BaseMapTransformCallable___wrap)) pid=37116) INFO:sycamore.transforms.detr_partitioner:ArynPartitioner: T+   0.01: Done preprocessing document\n",
      "(MapWorker(Map(BinaryScan._to_document)->MapBatches(BaseMapTransformCallable___wrap)) pid=37116) INFO:sycamore.transforms.detr_partitioner:ArynPartitioner: T+   0.98: Completed work on page 1\n",
      "(MapWorker(Map(BinaryScan._to_document)->MapBatches(BaseMapTransformCallable___wrap)) pid=37116) INFO:sycamore.transforms.detr_partitioner:ArynPartitioner: T+   1.97: Completed work on page 2\n",
      "(MapWorker(Map(BinaryScan._to_document)->MapBatches(BaseMapTransformCallable___wrap)) pid=37116) INFO:sycamore.transforms.detr_partitioner:ArynPartitioner: T+   2.33: Completed work on page 3\n",
      "(MapWorker(Map(BinaryScan._to_document)->MapBatches(BaseMapTransformCallable___wrap)) pid=37116) INFO:sycamore.transforms.detr_partitioner:ArynPartitioner: T+   2.69: Completed work on page 4\n",
      "(MapWorker(Map(BinaryScan._to_document)->MapBatches(BaseMapTransformCallable___wrap)) pid=37116) INFO:sycamore.transforms.detr_partitioner:ArynPartitioner: T+   3.23: Completed work on page 5\n",
      "(MapWorker(Map(BinaryScan._to_document)->MapBatches(BaseMapTransformCallable___wrap)) pid=37116) INFO:sycamore.transforms.detr_partitioner:ArynPartitioner: T+   3.80: Completed work on page 6\n",
      "(pid=35992) INFO:root:Spurious log 1: Verifying that log messages are propagated\n",
      "(MapWorker(Map(BinaryScan._to_document)->MapBatches(BaseMapTransformCallable___wrap)) pid=37116) INFO:sycamore.transforms.detr_partitioner:ArynPartitioner: T+   4.38: Completed work on page 7\n",
      "(MapWorker(Map(BinaryScan._to_document)->MapBatches(BaseMapTransformCallable___wrap)) pid=37116) INFO:sycamore.transforms.detr_partitioner:ArynPartitioner: T+   4.92: Completed work on page 8\n",
      "(MapWorker(Map(BinaryScan._to_document)->MapBatches(BaseMapTransformCallable___wrap)) pid=37116) INFO:sycamore.transforms.detr_partitioner:ArynPartitioner: T+   5.44: Completed work on page 9\n",
      "(MapWorker(Map(BinaryScan._to_document)->MapBatches(BaseMapTransformCallable___wrap)) pid=37116) INFO:sycamore.transforms.detr_partitioner:ArynPartitioner: T+   5.92: Completed work on page 10\n",
      "(MapWorker(Map(BinaryScan._to_document)->MapBatches(BaseMapTransformCallable___wrap)) pid=37116) INFO:sycamore.transforms.detr_partitioner:ArynPartitioner: T+   6.38: Completed work on page 11\n",
      "(MapWorker(Map(BinaryScan._to_document)->MapBatches(BaseMapTransformCallable___wrap)) pid=37116) INFO:sycamore.transforms.detr_partitioner:ArynPartitioner: T+   6.71: Completed work on page 12\n",
      "(MapWorker(Map(BinaryScan._to_document)->MapBatches(BaseMapTransformCallable___wrap)) pid=37116) INFO:sycamore.transforms.detr_partitioner:ArynPartitioner: T+   6.92: Completed work on page 13\n",
      "(MapWorker(Map(BinaryScan._to_document)->MapBatches(BaseMapTransformCallable___wrap)) pid=37116) INFO:sycamore.transforms.detr_partitioner:ArynPartitioner: T+   6.98: Completed work on page 14\n"
     ]
    }
   ],
   "source": [
    "docset.execute()"
   ]
  },
  {
   "cell_type": "code",
   "execution_count": 4,
   "metadata": {},
   "outputs": [
    {
     "name": "stderr",
     "output_type": "stream",
     "text": [
      "2025-01-12 07:55:37,895\tWARNING util.py:587 -- The argument ``compute`` is deprecated in Ray 2.9. Please specify argument ``concurrency`` instead. For more information, see https://docs.ray.io/en/master/data/transforming-data.html#stateful-transforms.\n",
      "2025-01-12 07:55:37,906\tINFO streaming_executor.py:108 -- Starting execution of Dataset. Full logs are in C:\\Users\\aurel\\AppData\\Local\\Temp\\ray\\session_2025-01-12_07-55-02_610341_12164\\logs\\ray-data\n",
      "2025-01-12 07:55:37,907\tINFO streaming_executor.py:109 -- Execution plan of Dataset: InputDataBuffer[Input] -> TaskPoolMapOperator[ReadBinary] -> ActorPoolMapOperator[Map(BinaryScan._to_document)->MapBatches(BaseMapTransformCallable___wrap)]\n"
     ]
    },
    {
     "data": {
      "application/vnd.jupyter.widget-view+json": {
       "model_id": "36e7f8115b394c6db640fb68b505e0d5",
       "version_major": 2,
       "version_minor": 0
      },
      "text/plain": [
       "Running 0: 0.00 row [00:00, ? row/s]"
      ]
     },
     "metadata": {},
     "output_type": "display_data"
    },
    {
     "name": "stderr",
     "output_type": "stream",
     "text": [
      "(pid=38224) INFO:root:Spurious log 1: Verifying that log messages are propagated\n",
      "(MapWorker(Map(BinaryScan._to_document)->MapBatches(BaseMapTransformCallable___wrap)) pid=38224) INFO:sycamore.transforms.detr_partitioner:ArynPartitioner: T+   0.00: Server version aryn-partitioner-0.20241226.161207 Model version 1.4\n",
      "(MapWorker(Map(BinaryScan._to_document)->MapBatches(BaseMapTransformCallable___wrap)) pid=38224) INFO:sycamore.transforms.detr_partitioner:ArynPartitioner: T+   0.00: Received request with aryn_call_id=db602016-2b4b-41dd-909e-ef589488bdd0\n",
      "(MapWorker(Map(BinaryScan._to_document)->MapBatches(BaseMapTransformCallable___wrap)) pid=38224) INFO:sycamore.transforms.detr_partitioner:ArynPartitioner: T+   0.00: Waiting for scheduling\n",
      "(MapWorker(Map(BinaryScan._to_document)->MapBatches(BaseMapTransformCallable___wrap)) pid=38224) INFO:sycamore.transforms.detr_partitioner:ArynPartitioner: T+   0.01: Preprocessing document\n",
      "(MapWorker(Map(BinaryScan._to_document)->MapBatches(BaseMapTransformCallable___wrap)) pid=38224) INFO:sycamore.transforms.detr_partitioner:ArynPartitioner: T+   0.01: Done preprocessing document\n",
      "(MapWorker(Map(BinaryScan._to_document)->MapBatches(BaseMapTransformCallable___wrap)) pid=38224) INFO:sycamore.transforms.detr_partitioner:ArynPartitioner: T+   0.97: Completed work on page 1\n",
      "(MapWorker(Map(BinaryScan._to_document)->MapBatches(BaseMapTransformCallable___wrap)) pid=38224) INFO:sycamore.transforms.detr_partitioner:ArynPartitioner: T+   1.77: Completed work on page 2\n",
      "(MapWorker(Map(BinaryScan._to_document)->MapBatches(BaseMapTransformCallable___wrap)) pid=38224) INFO:sycamore.transforms.detr_partitioner:ArynPartitioner: T+   1.97: Completed work on page 3\n",
      "(MapWorker(Map(BinaryScan._to_document)->MapBatches(BaseMapTransformCallable___wrap)) pid=38224) INFO:sycamore.transforms.detr_partitioner:ArynPartitioner: T+   2.28: Completed work on page 4\n",
      "(MapWorker(Map(BinaryScan._to_document)->MapBatches(BaseMapTransformCallable___wrap)) pid=38224) INFO:sycamore.transforms.detr_partitioner:ArynPartitioner: T+   3.32: Completed work on page 5\n",
      "(MapWorker(Map(BinaryScan._to_document)->MapBatches(BaseMapTransformCallable___wrap)) pid=38224) INFO:sycamore.transforms.detr_partitioner:ArynPartitioner: T+   3.94: Completed work on page 6\n",
      "(MapWorker(Map(BinaryScan._to_document)->MapBatches(BaseMapTransformCallable___wrap)) pid=38224) INFO:sycamore.transforms.detr_partitioner:ArynPartitioner: T+   4.45: Completed work on page 7\n",
      "(MapWorker(Map(BinaryScan._to_document)->MapBatches(BaseMapTransformCallable___wrap)) pid=38224) INFO:sycamore.transforms.detr_partitioner:ArynPartitioner: T+   5.02: Completed work on page 8\n",
      "(MapWorker(Map(BinaryScan._to_document)->MapBatches(BaseMapTransformCallable___wrap)) pid=38224) INFO:sycamore.transforms.detr_partitioner:ArynPartitioner: T+   5.60: Completed work on page 9\n",
      "(MapWorker(Map(BinaryScan._to_document)->MapBatches(BaseMapTransformCallable___wrap)) pid=38224) INFO:sycamore.transforms.detr_partitioner:ArynPartitioner: T+   6.18: Completed work on page 10\n",
      "(MapWorker(Map(BinaryScan._to_document)->MapBatches(BaseMapTransformCallable___wrap)) pid=38224) INFO:sycamore.transforms.detr_partitioner:ArynPartitioner: T+   6.81: Completed work on page 11\n",
      "(MapWorker(Map(BinaryScan._to_document)->MapBatches(BaseMapTransformCallable___wrap)) pid=38224) INFO:sycamore.transforms.detr_partitioner:ArynPartitioner: T+   7.17: Completed work on page 12\n",
      "(MapWorker(Map(BinaryScan._to_document)->MapBatches(BaseMapTransformCallable___wrap)) pid=38224) INFO:sycamore.transforms.detr_partitioner:ArynPartitioner: T+   7.45: Completed work on page 13\n",
      "(MapWorker(Map(BinaryScan._to_document)->MapBatches(BaseMapTransformCallable___wrap)) pid=38224) INFO:sycamore.transforms.detr_partitioner:ArynPartitioner: T+   7.52: Completed work on page 14\n"
     ]
    },
    {
     "data": {
      "application/vnd.jupyter.widget-view+json": {
       "model_id": "084a2918ee2246dc8833e168a7165e80",
       "version_major": 2,
       "version_minor": 0
      },
      "text/plain": [
       "- ReadBinary->SplitBlocks(28) 1: 0.00 row [00:00, ? row/s]"
      ]
     },
     "metadata": {},
     "output_type": "display_data"
    },
    {
     "data": {
      "application/vnd.jupyter.widget-view+json": {
       "model_id": "79ada0c991f24f84a2361cccfa1c8491",
       "version_major": 2,
       "version_minor": 0
      },
      "text/plain": [
       "- Map(BinaryScan._to_document)->MapBatches(BaseMapTransformCallable___wrap) 2: 0.00 row [00:00, ? row/s]"
      ]
     },
     "metadata": {},
     "output_type": "display_data"
    }
   ],
   "source": [
    "documents = docset.take_all()\n"
   ]
  },
  {
   "cell_type": "code",
   "execution_count": 5,
   "metadata": {},
   "outputs": [
    {
     "data": {
      "text/plain": [
       "[{'type': 'Image', 'bbox': [0.3275151320758221, 0.19762649442749772, 0.6592607936466175, 0.25881718947224985], 'properties': {'score': 0.4519291818141937, 'image_size': None, 'image_mode': None, 'image_format': None, 'page_number': 1, '_element_index': 0}, 'text_representation': 'EXAM #1'},\n",
       " {'type': 'Image', 'bbox': [0.6350257256896296, 0.8522054235675489, 0.909862778266145, 0.8849917613745028], 'properties': {'score': 0.4975769519805908, 'image_size': None, 'image_mode': None, 'image_format': None, 'page_number': 1, '_element_index': 1}, 'text_representation': ''},\n",
       " {'type': 'Section-header', 'bbox': [0.015981509715695924, 0.0414580831340715, 0.2490067300917227, 0.07315703466826794], 'properties': {'score': 0.5851667523384094, 'page_number': 2, '_element_index': 2}, 'text_representation': 'OSCILLATIONS'},\n",
       " {'type': 'Caption', 'bbox': [0.26482874230493475, 0.05630935874639773, 0.5516060454935967, 0.07190647779726515], 'properties': {'score': 0.36568912863731384, 'page_number': 2, '_element_index': 3}, 'text_representation': 'anuthing thot repeans in a pattern'},\n",
       " {'type': 'Text', 'bbox': [0.06665649896935572, 0.08502610524495442, 0.36574189874190316, 0.09898153940836589], 'properties': {'score': 0.4413657486438751, 'page_number': 2, '_element_index': 4}, 'text_representation': '- period :-time to repeat an oscillation'},\n",
       " {'type': 'Caption', 'bbox': [0.14140312581122677, 0.11180675730985754, 0.4958956271787233, 0.12739919213687673], 'properties': {'score': 0.40041837096214294, 'page_number': 2, '_element_index': 5}, 'text_representation': 'from one peak to onother (yeax-to-peak)'},\n",
       " {'type': 'Caption', 'bbox': [0.06827511364900613, 0.1404258784125833, 0.2790875495234622, 0.15538518569048712], 'properties': {'score': 0.4151756465435028, 'page_number': 2, '_element_index': 6}, 'text_representation': 'x(t) equation of motion'},\n",
       " {'type': 'Image', 'bbox': [0.0671056192132491, 0.16089847041111366, 0.9068171827098991, 0.3941994087368834], 'properties': {'score': 0.5127317905426025, 'image_size': None, 'image_mode': None, 'image_format': None, 'page_number': 2, '_element_index': 7}, 'text_representation': 'm Y timt * F= ma A = Amplitude F=-Kx (spring) F = ma=-kx dx m -kx dta ata'},\n",
       " {'type': 'Image', 'bbox': [0.5206079120877423, 0.4162296968347886, 0.8156577967390229, 0.5298966052485448], 'properties': {'score': 0.2955898940563202, 'image_size': None, 'image_mode': None, 'image_format': None, 'page_number': 2, '_element_index': 8}, 'text_representation': 'what if x(t)=Asin(nt+$) dx = A cos(wt+) dt dt d\"1 -Aw*sin(wt+p)'},\n",
       " {'type': 'Caption', 'bbox': [0.34967478015754794, 0.5587499281939339, 0.45603938042363035, 0.5720816967534084], 'properties': {'score': 0.2363060861825943, 'page_number': 2, '_element_index': 9}, 'text_representation': 'piug (a) into (1)'},\n",
       " {'type': 'Caption', 'bbox': [0.3675007156178921, 0.5843579161400888, 0.6881415451629252, 0.6153286204618567], 'properties': {'score': 0.2849276065826416, 'page_number': 2, '_element_index': 10}, 'text_representation': '-Aw*sin(nt+p)= -K Asin(wt+$)'},\n",
       " {'type': 'Image', 'bbox': [0.04889869689941406, 0.6260511734906364, 0.6021543092365507, 0.8542390711167279], 'properties': {'score': 0.31586605310440063, 'image_size': None, 'image_mode': None, 'image_format': None, 'page_number': 2, '_element_index': 11}, 'text_representation': \"x(t)= Asin(at+) m v(t)= Awcos(wt+p) a (t) - -An'sin (nt+p) M p x time\"},\n",
       " {'type': 'Text', 'bbox': [0.7111778259277344, 0.734356076109643, 0.9438839683049842, 0.7662892061121324], 'properties': {'score': 0.16399045288562775, 'page_number': 2, '_element_index': 12}, 'text_representation': 'strong spring= lets ostillation strong mass = more oscination'},\n",
       " {'type': 'List-item', 'bbox': [0.09892878954923606, 0.890559102974686, 0.34850311279296875, 0.9065574945188036], 'properties': {'score': 0.11009551584720612, 'page_number': 2, '_element_index': 13}, 'text_representation': 'Asin(wt,+$) - Asin(nt+$)=0'},\n",
       " {'type': 'List-item', 'bbox': [0.14492421210566653, 0.918911055022595, 0.3499959631811214, 0.9349629271264169], 'properties': {'score': 0.15560747683048248, 'page_number': 2, '_element_index': 14}, 'text_representation': 'Nt,+$-(wt,+p) 2'},\n",
       " {'type': 'List-item', 'bbox': [0.15980267826514907, 0.9448931824927237, 0.2894014044653011, 0.9611249437519148], 'properties': {'score': 0.17192107439041138, 'page_number': 2, '_element_index': 15}, 'text_representation': 'Wt,-wt,=27'},\n",
       " {'type': 'List-item', 'bbox': [0.14928991583329213, 0.9744151246313956, 0.28526419627515576, 0.9910729352165671], 'properties': {'score': 0.4013943374156952, 'page_number': 2, '_element_index': 16}, 'text_representation': 'w(ta-t,) - an'},\n",
       " {'type': 'Image', 'bbox': [0.5909382301040843, 0.8583410674450445, 0.8625940250445016, 0.9856387867647058], 'properties': {'score': 0.1975189745426178, 'image_size': None, 'image_mode': None, 'image_format': None, 'page_number': 2, '_element_index': 17}, 'text_representation': 'W p :ar P - w- or p p=atf P:2r k'},\n",
       " {'type': 'Image', 'bbox': [0.05940189844445337, 0.03822536795747047, 0.9617768299730518, 0.25432371625713274], 'properties': {'score': 0.41606420278549194, 'image_size': None, 'image_mode': None, 'image_format': None, 'page_number': 3, '_element_index': 18}, 'text_representation': 'F = mg - Kto no mass new equitibrim positon same sprinoj w/mass'},\n",
       " {'type': 'Image', 'bbox': [0.06000778343104109, 0.2697400672763002, 0.9198593912245352, 0.5964828566008923], 'properties': {'score': 0.37279871106147766, 'image_size': None, 'image_mode': None, 'image_format': None, 'page_number': 3, '_element_index': 19}, 'text_representation': \"energy in the system:. Ku du = -ku* - Potential energy (U) . Kinetie energy (W) - Fdu mva E= U+K x(t)= Asin(wt+4) .v(t)= Awcos (wt+) 5kA*sin*(wt+p)+5x A3 cos' (Wst+g) KA[sin*(wt+$)+ cos*(ast+p)] KA2 $+A 2\"},\n",
       " {'type': 'Image', 'bbox': [0.05542469024658203, 0.635432149849686, 0.7005419670781002, 0.8428205602309283], 'properties': {'score': 0.4625728726387024, 'image_size': None, 'image_mode': None, 'image_format': None, 'page_number': 3, '_element_index': 20}, 'text_representation': 'Dampino Fa -bv ?whatif b-0 Fnets -ku -bv = ma u(t) - Asin (nt+4) ma+ bv+ku=0 ? whQt lt K+0 mu\\' + bQ\\'+ ku =0 mu\" =-bu\\' -t Q(t)- Ae'},\n",
       " {'type': 'Caption', 'bbox': [0.5804648580430429, 0.8339453304515165, 0.6649373694311215, 0.8488700717103248], 'properties': {'score': 0.25697094202041626, 'page_number': 3, '_element_index': 21}, 'text_representation': '0(t) 1 A e'},\n",
       " {'type': 'Caption', 'bbox': [0.0919624401044242, 0.05059353043051327, 0.2913423127765897, 0.06887659372067918], 'properties': {'score': 0.44778725504875183, 'page_number': 4, '_element_index': 22}, 'text_representation': 'sin(At+'},\n",
       " {'type': 'Text', 'bbox': [0.09629903262174583, 0.08283499175427007, 0.3441699547103689, 0.0961155891418457], 'properties': {'score': 0.27725914120674133, 'page_number': 4, '_element_index': 23}, 'text_representation': \"suo to mu tbu' + =0\"},\n",
       " {'type': 'Text', 'bbox': [0.05561220796802376, 0.10737842672011431, 0.9539606601377076, 0.6537846583946079], 'properties': {'score': 0.3871122896671295, 'page_number': 4, '_element_index': 24}, 'text_representation': \"u(t)= Ae-at sin(mt+p) - Ae-at w2sin(wt+4) =Aa'e-dtsin(nt+$) - aAwxe*t cos(wt+g)- Aw'e-at in(nt+) a'e-ut sin(wt+p) - auwe-nt cos(mt+p) -entm?sin(wt+p)] ptug back in1o mu'+ bu'+ ku- O ma-bd-mw'+x=0 bw - amwk = 0 b- y-mW*+k=0 X:b 4M am 4m K b2 solvino w w/ drag torce W = m 4m2 frequency of danped osciulator * NOT time dependent\"},\n",
       " {'type': 'Caption', 'bbox': [0.06215177608441703, 0.7251816543878293, 0.5109918328780162, 0.7681395586799172], 'properties': {'score': 0.3242388367652893, 'page_number': 4, '_element_index': 25}, 'text_representation': ' equation os motion sor a damped oscillator Sin(wt+ $)'},\n",
       " {'type': 'Image', 'bbox': [0.11788083329985413, 0.7732623231177237, 0.5637769095505341, 0.8760663948807061], 'properties': {'score': 0.5165608525276184, 'image_size': None, 'image_mode': None, 'image_format': None, 'page_number': 4, '_element_index': 26}, 'text_representation': 'under damped'},\n",
       " {'type': 'Caption', 'bbox': [0.4090979853762856, 0.8093418794519761, 0.5620895578891416, 0.8239559846765855], 'properties': {'score': 0.2592289447784424, 'page_number': 4, '_element_index': 27}, 'text_representation': 'under d amped'},\n",
       " {'type': 'Text', 'bbox': [0.5733235033252572, 0.809999054553462, 0.9259090182147448, 0.903820187437768], 'properties': {'score': 0.4125320017337799, 'page_number': 4, '_element_index': 28}, 'text_representation': '+ when the damping term is weak, cousing many oscilations and then. comino to a stop penduium, grandfather ctock'},\n",
       " {'type': 'Image', 'bbox': [0.11836424960365778, 0.038488025758780686, 0.39465901821474486, 0.13620619680367263], 'properties': {'score': 0.7301905751228333, 'image_size': None, 'image_mode': None, 'image_format': None, 'page_number': 5, '_element_index': 29}, 'text_representation': ''},\n",
       " {'type': 'Caption', 'bbox': [0.08703603020197229, 0.1919856725954542, 0.39075040213669404, 0.2455575419407265], 'properties': {'score': 0.3746758699417114, 'page_number': 5, '_element_index': 30}, 'text_representation': '* amplitude depends on time *W does not depend on time'},\n",
       " {'type': 'Caption', 'bbox': [0.017652914493898803, 0.3201016070795994, 0.48116688788691653, 0.3509847977582146], 'properties': {'score': 0.45596936345100403, 'page_number': 5, '_element_index': 31}, 'text_representation': 'WAYES'},\n",
       " {'type': 'Caption', 'bbox': [0.032023221631593345, 0.3625941183052811, 0.20102484014969838, 0.3777594472847733], 'properties': {'score': 0.34629982709884644, 'page_number': 5, '_element_index': 32}, 'text_representation': '+ transverse wave'},\n",
       " {'type': 'table', 'bbox': [0.47852277152145967, 0.07935533336564607, 0.9592629927623121, 0.20989047779756434], 'properties': {'score': 0.16811668872833252, 'title': None, 'columns': 2, 'rows': 3, 'page_number': 5, '_element_index': 33}, 'text_representation': None, 'table': <sycamore.data.table.Table object at 0x000002528148C860>, 'tokens': None},\n",
       " {'type': 'Text', 'bbox': [0.5247440579571302, 0.19351407593371822, 0.8352972103070609, 0.210080857370414], 'properties': {'score': 0.21565566956996918, 'page_number': 5, '_element_index': 34}, 'text_representation': 'car going over a speed bump'},\n",
       " {'type': 'Text', 'bbox': [0.6256896393208564, 0.3619503320432177, 0.8413905855975573, 0.37667285694795494], 'properties': {'score': 0.19544565677642822, 'page_number': 5, '_element_index': 35}, 'text_representation': 'Ampl1t ude (A) m'},\n",
       " {'type': 'Image', 'bbox': [0.06384977509703817, 0.3849949182248583, 0.908512839788123, 0.5022751677270029], 'properties': {'score': 0.6300408244132996, 'image_size': None, 'image_mode': None, 'image_format': None, 'page_number': 5, '_element_index': 36}, 'text_representation': 'period (t) s 1 frequency (f) s Or Ht wave iength (7) m m/s wove speed (c)'},\n",
       " {'type': 'Image', 'bbox': [0.09424312205254277, 0.5264677907906327, 0.4517545579354974, 0.6669694489123774], 'properties': {'score': 0.37711474299430847, 'image_size': None, 'image_mode': None, 'image_format': None, 'page_number': 5, '_element_index': 37}, 'text_representation': 'distance : time T c : T 1'},\n",
       " {'type': 'Caption', 'bbox': [0.09773502470571784, 0.5273772968965418, 0.25959089737904223, 0.5618992599786496], 'properties': {'score': 0.28722959756851196, 'page_number': 5, '_element_index': 38}, 'text_representation': 'distance c : time T'},\n",
       " {'type': 'Caption', 'bbox': [0.3118471556071994, 0.6278955048205805, 0.381807085833972, 0.6669467103247549], 'properties': {'score': 0.20243674516677856, 'page_number': 5, '_element_index': 39}, 'text_representation': ''},\n",
       " {'type': 'Caption', 'bbox': [0.029485880574093588, 0.684103947059781, 0.5201176510581488, 0.7462198594037224], 'properties': {'score': 0.4023224115371704, 'page_number': 5, '_element_index': 40}, 'text_representation': 's [+] frequency: how opten qKa Hz'},\n",
       " {'type': 'Image', 'bbox': [0.025867133200923098, 0.7567542580997243, 0.6721395178686215, 0.9023715000526578], 'properties': {'score': 0.6235730648040771, 'image_size': None, 'image_mode': None, 'image_format': None, 'page_number': 5, '_element_index': 41}, 'text_representation': 'y(ut=Asink ltt t=0 y(u,0)= y(x+3,0) aka wave repeats Asin(ku)= Asin(kutKA) * same as rignt side wnen we add an'},\n",
       " {'type': 'Caption', 'bbox': [0.3394031524658203, 0.890073439654182, 0.6335324637497528, 0.9048973532284007], 'properties': {'score': 0.47717204689979553, 'page_number': 5, '_element_index': 42}, 'text_representation': 'same as right side when we add an'},\n",
       " {'type': 'Caption', 'bbox': [0.3350132085100005, 0.9188142664292279, 0.4782922962043859, 0.9321889690324372], 'properties': {'score': 0.7289120554924011, 'page_number': 5, '_element_index': 43}, 'text_representation': 'Ku+2 Ku+ KT'},\n",
       " {'type': 'Page-footer', 'bbox': [0.7107854432697538, 0.9361753276750153, 0.8336696383319323, 0.9626800686705346], 'properties': {'score': 0.2815251350402832, 'page_number': 5, '_element_index': 44}, 'text_representation': '[m or rad ]'},\n",
       " {'type': 'Image', 'bbox': [0.37340748460986944, 0.9371215969908471, 0.6798527391651009, 0.9827125399720436], 'properties': {'score': 0.303140789270401, 'image_size': None, 'image_mode': None, 'image_format': None, 'page_number': 5, '_element_index': 45}, 'text_representation': '27 Nave number A (NOT spring constant)'},\n",
       " {'type': 'Image', 'bbox': [0.072154847881462, 0.03781559420566933, 0.5796091586728639, 0.17132813322777843], 'properties': {'score': 0.3452199399471283, 'image_size': None, 'image_mode': None, 'image_format': None, 'page_number': 6, '_element_index': 46}, 'text_representation': 'yu0)Asin(ku) ltt t 00 y(ut)=Asin(KQ-t+p) formula for oscillating waves'},\n",
       " {'type': 'Section-header', 'bbox': [0.025492384463925905, 0.05277060527427524, 0.04325880883615228, 0.06527457985223509], 'properties': {'score': 0.14123409986495972, 'page_number': 6, '_element_index': 47}, 'text_representation': ''},\n",
       " {'type': 'Image', 'bbox': [0.05991449838952173, 0.19040990343280867, 0.4279274276540249, 0.34125608556410847], 'properties': {'score': 0.2293606996536255, 'image_size': None, 'image_mode': None, 'image_format': None, 'page_number': 6, '_element_index': 48}, 'text_representation': '0t ay. -An cos(ka-t+) at ay -AWsin(ku-w1+g) 0ta'},\n",
       " {'type': 'Caption', 'bbox': [0.5243402794946598, 0.19205882502537147, 0.7558603407461432, 0.28600242091160194], 'properties': {'score': 0.20377804338932037, 'page_number': 6, '_element_index': 49}, 'text_representation': \"ay AKcos(ku-t+) a a'y -AK'sin(ku-Wt+$)\"},\n",
       " {'type': 'Text', 'bbox': [0.7861913367162777, 0.19603420706356273, 0.9198220168487935, 0.21237923117244945], 'properties': {'score': 0.1826370507478714, 'page_number': 6, '_element_index': 50}, 'text_representation': 'S1ope of the wave'},\n",
       " {'type': 'Text', 'bbox': [0.7836961866934088, 0.2486706901999081, 0.9657845798927017, 0.2673318900314032], 'properties': {'score': 0.18836727738380432, 'page_number': 6, '_element_index': 51}, 'text_representation': 'curvatue (concavity)'},\n",
       " {'type': 'Image', 'bbox': [0.12115582333335394, 0.3810165255677466, 0.8075759501396855, 0.5680026260076785], 'properties': {'score': 0.3822923004627228, 'image_size': None, 'image_mode': None, 'image_format': None, 'page_number': 6, '_element_index': 52}, 'text_representation': \"a'y 0ta (3) -Aw'sin (... ) 4t2 32 2 = 2 a'y -Ak'sin (...) 3 K 4n2 au' 1 lnear wave equation ay. at* au2 C :\"},\n",
       " {'type': 'Image', 'bbox': [0.10393479504162752, 0.5683574676513672, 0.46611906606939774, 0.7198371887207031], 'properties': {'score': 0.3575016260147095, 'image_size': None, 'image_mode': None, 'image_format': None, 'page_number': 6, '_element_index': 53}, 'text_representation': 'Lt 37 1: 2'},\n",
       " {'type': 'Page-header', 'bbox': [0.024714462364776226, 0.584472282260072, 0.04137664203402362, 0.5973646500531364], 'properties': {'score': 0.14302471280097961, 'page_number': 6, '_element_index': 54}, 'text_representation': ''},\n",
       " {'type': 'Image', 'bbox': [0.11354357079614567, 0.7352089975394455, 0.46311825136595136, 0.7924916884478401], 'properties': {'score': 0.33771005272865295, 'image_size': None, 'image_mode': None, 'image_format': None, 'page_number': 6, '_element_index': 55}, 'text_representation': '47 as'},\n",
       " {'type': 'table', 'bbox': [0.022453591793398314, 0.8294250637877221, 0.5096005306968207, 0.876286226160386], 'properties': {'score': 0.3211921155452728, 'title': None, 'columns': 3, 'rows': 1, 'page_number': 6, '_element_index': 56}, 'text_representation': None, 'table': <sycamore.data.table.Table object at 0x000002528148D490>, 'tokens': None},\n",
       " {'type': 'Caption', 'bbox': [0.3743218772019012, 0.7437346215341606, 0.46161303942716575, 0.7639184839585248], 'properties': {'score': 0.2138887196779251, 'page_number': 6, '_element_index': 57}, 'text_representation': '40 L=an : 2.'},\n",
       " {'type': 'Text', 'bbox': [0.5938552180423012, 0.6494908800312117, 0.6786325672004796, 0.7103801054113051], 'properties': {'score': 0.14287139475345612, 'page_number': 6, '_element_index': 58}, 'text_representation': 'n? 1 : a'},\n",
       " {'type': 'Text', 'bbox': [0.7355943993677067, 0.6663088331035539, 0.8143891926053204, 0.6808369954427084], 'properties': {'score': 0.14491704106330872, 'page_number': 6, '_element_index': 59}, 'text_representation': 'L= 1tngth'},\n",
       " {'type': 'Text', 'bbox': [0.7350752142411244, 0.6926214928720512, 0.8640152170688291, 0.7071574342017081], 'properties': {'score': 0.10339684039354324, 'page_number': 6, '_element_index': 60}, 'text_representation': 'n = harmonic #'},\n",
       " {'type': 'Section-header', 'bbox': [0.05934765972668612, 0.03914028523015041, 0.5214503807357594, 0.0675825044220569], 'properties': {'score': 0.3066444993019104, 'page_number': 7, '_element_index': 61}, 'text_representation': 'YTot = y,+yx sin(ku-ut)+ sin(ku+wt)'},\n",
       " {'type': 'Text', 'bbox': [0.14086142672768123, 0.08008809183158126, 0.9095430011990704, 0.15198812297746248], 'properties': {'score': 0.41866663098335266, 'page_number': 7, '_element_index': 62}, 'text_representation': 'yT = A[ sin(Ku) cos(wt)- cos(Kk}sm(wt)+ sin(ku) cos(at)+ cos(kttsin(wt) Yr= Aasin(k)coswt))'},\n",
       " {'type': 'Text', 'bbox': [0.27843760236909115, 0.16104797288483264, 0.5590423390835146, 0.17948305840585746], 'properties': {'score': 0.3080068528652191, 'page_number': 7, '_element_index': 63}, 'text_representation': 'if sin(ku)=0 =YTot0'},\n",
       " {'type': 'Text', 'bbox': [0.31251419646830497, 0.1926089081109739, 0.6196937078162085, 0.32706810446346507], 'properties': {'score': 0.3096948564052582, 'page_number': 7, '_element_index': 64}, 'text_representation': 'sin (xQ)sin) KL = nr (k: L=nK nA L = 2'},\n",
       " {'type': 'Text', 'bbox': [0.30439463748207574, 0.19332319147446575, 0.4600154055824763, 0.21031746209836474], 'properties': {'score': 0.4143145978450775, 'page_number': 7, '_element_index': 65}, 'text_representation': 'sin (xQ) s sin (r)'},\n",
       " {'type': 'Section-header', 'bbox': [0.015975282162050658, 0.3483966752594593, 0.44465048101883903, 0.3797006046070772], 'properties': {'score': 0.6867889165878296, 'page_number': 7, '_element_index': 66}, 'text_representation': 'SPEfD OF WAVE iN A $TRING'},\n",
       " {'type': 'Image', 'bbox': [0.09573763835279248, 0.400151533239028, 0.5272685666627521, 0.5333710464776731], 'properties': {'score': 0.7943953275680542, 'image_size': None, 'image_mode': None, 'image_format': None, 'page_number': 7, '_element_index': 67}, 'text_representation': 'net force (x-dir) ='},\n",
       " {'type': 'Caption', 'bbox': [0.040424778491635865, 0.5422395444383808, 0.303881053683124, 0.5757488175934437], 'properties': {'score': 0.5383251905441284, 'page_number': 7, '_element_index': 68}, 'text_representation': 'f: ay Fa ay'},\n",
       " {'type': 'Caption', 'bbox': [0.07784177079985413, 0.6101112365722656, 0.39026057569286493, 0.6275472453996247], 'properties': {'score': 0.46614545583724976, 'page_number': 7, '_element_index': 69}, 'text_representation': 'Fy (string is just goino up  down)'},\n",
       " {'type': 'Image', 'bbox': [0.04011148138891293, 0.6352457532695696, 0.7967594484739666, 0.9637705485026041], 'properties': {'score': 0.5636205673217773, 'image_size': None, 'image_mode': None, 'image_format': None, 'page_number': 7, '_element_index': 70}, 'text_representation': \"Fnet =F+F ay ay : F ma aR ,-  FT M Au ay F+ a'y ota u ady a'y at' du* F t C2.\"},\n",
       " {'type': 'Caption', 'bbox': [0.2597527564326419, 0.952965680290671, 0.3545434444765501, 0.984925812365962], 'properties': {'score': 0.24482418596744537, 'page_number': 7, '_element_index': 71}, 'text_representation': ''},\n",
       " {'type': 'Page-footer', 'bbox': [0.3001097667066357, 0.9718509748870251, 0.3169660206082501, 0.9868042141783471], 'properties': {'score': 0.3234151005744934, 'page_number': 7, '_element_index': 72}, 'text_representation': ''},\n",
       " {'type': 'Section-header', 'bbox': [0.01600047153762624, 0.01270216002183802, 0.1886029545264908, 0.043813565198112935], 'properties': {'score': 0.4474337697029114, 'page_number': 8, '_element_index': 73}, 'text_representation': 'PENDuLum'},\n",
       " {'type': 'Image', 'bbox': [0.02376228646387028, 0.05280745730680578, 0.20398014406614665, 0.20083287182976217], 'properties': {'score': 0.5187797546386719, 'image_size': None, 'image_mode': None, 'image_format': None, 'page_number': 8, '_element_index': 74}, 'text_representation': 'mo cs0 1 1 Mg 3ine'},\n",
       " {'type': 'Image', 'bbox': [0.0255964405928986, 0.05505518819771561, 0.748244176937055, 0.4898385440602022], 'properties': {'score': 0.44947001338005066, 'image_size': None, 'image_mode': None, 'image_format': None, 'page_number': 8, '_element_index': 75}, 'text_representation': \"Fnety = F-mgcose = 0 fnet a - - mgsino = na A = -gsine 1 do u measures arc lenqth -0sin To 3lne dt Q=0 d'e sine dta 03 0$ Sine= 0 - 3! 5 0is small for sma esine d'0 1 dt' 9 V 9\"},\n",
       " {'type': 'Caption', 'bbox': [0.5904527978052067, 0.3039857452990962, 0.6728249561937549, 0.3189546173694087], 'properties': {'score': 0.21907782554626465, 'page_number': 8, '_element_index': 76}, 'text_representation': 'is $ m a II'},\n",
       " {'type': 'Section-header', 'bbox': [0.022280231306824504, 0.5172164393406288, 0.34868447991866097, 0.5443875929888558], 'properties': {'score': 0.36253029108047485, 'page_number': 8, '_element_index': 77}, 'text_representation': 'ENER6Y iN WAVtS (t)'},\n",
       " {'type': 'Image', 'bbox': [0.026725723773618287, 0.5559671439376532, 0.36589009248757665, 0.710330514346852], 'properties': {'score': 0.527610182762146, 'image_size': None, 'image_mode': None, 'image_format': None, 'page_number': 8, '_element_index': 78}, 'text_representation': ''},\n",
       " {'type': 'Caption', 'bbox': [0.4226364908339102, 0.5538532032686121, 0.6949046654037282, 0.6513899260876226], 'properties': {'score': 0.25720104575157166, 'page_number': 8, '_element_index': 79}, 'text_representation': \"dE=dK + dU dE= Jamv2+Kay2 Idmu'+ 7y'w2dm dE = *udu t\"},\n",
       " {'type': 'Caption', 'bbox': [0.7481647926040843, 0.5651555528827742, 0.9612776357916337, 0.5979505052753523], 'properties': {'score': 0.434820294380188, 'page_number': 8, '_element_index': 80}, 'text_representation': 'Ks= n$m]'},\n",
       " {'type': 'Caption', 'bbox': [0.7598881298982645, 0.6320438011019838, 0.888866472847854, 0.6812492071413526], 'properties': {'score': 0.22612348198890686, 'page_number': 8, '_element_index': 81}, 'text_representation': '[m=u4u] 2 [K=]'},\n",
       " {'type': 'Image', 'bbox': [0.13317617585387412, 0.7131584765864354, 0.749259127846247, 0.9122713874368107], 'properties': {'score': 0.1761281043291092, 'image_size': None, 'image_mode': None, 'image_format': None, 'page_number': 8, '_element_index': 82}, 'text_representation': 'y(u,t)=Asin(-wt) 2  v(ut}=-AW cos(-wt) plua these dt=mn*wcos\\'u-wt)+ A\\'wsin?(\"u-nt dE=uAw)du dF=tMA\\'n\\' au'},\n",
       " {'type': 'Caption', 'bbox': [0.46107849893690667, 0.8920747345569087, 0.5735063190701641, 0.915622262393727], 'properties': {'score': 0.27747946977615356, 'page_number': 8, '_element_index': 83}, 'text_representation': 'A 1 M ?'},\n",
       " {'type': 'Section-header', 'bbox': [0.018243611613406412, 0.01530613852482216, 0.34417529045781003, 0.04392248041489545], 'properties': {'score': 0.6165761947631836, 'page_number': 9, '_element_index': 84}, 'text_representation': 'POWer IN WAYES (p)'},\n",
       " {'type': 'Image', 'bbox': [0.08724295942089226, 0.05266753832499186, 0.37119341500197783, 0.14997254165948606], 'properties': {'score': 0.4824599325656891, 'image_size': None, 'image_mode': None, 'image_format': None, 'page_number': 9, '_element_index': 85}, 'text_representation': 'Ea p : p=#AwuC 4t'},\n",
       " {'type': 'Section-header', 'bbox': [0.018408597270144694, 0.1829683266434015, 0.39544013783901555, 0.21039841221828087], 'properties': {'score': 0.33002710342407227, 'page_number': 9, '_element_index': 86}, 'text_representation': 'Intensity IN WAvES (1}'},\n",
       " {'type': 'table', 'bbox': [0.06380279154717168, 0.21422661052030675, 0.3606510645226587, 0.3108500312356388], 'properties': {'score': 0.31147512793540955, 'title': None, 'columns': 3, 'rows': 4, 'page_number': 9, '_element_index': 87}, 'text_representation': None, 'table': <sycamore.data.table.Table object at 0x000002528148DFD0>, 'tokens': None},\n",
       " {'type': 'Section-header', 'bbox': [0.01935555814187738, 0.34894479489793967, 0.23369861554495897, 0.37714142892874924], 'properties': {'score': 0.4103813171386719, 'page_number': 9, '_element_index': 88}, 'text_representation': 'SOUND WAVES'},\n",
       " {'type': 'Image', 'bbox': [0.13200804553454434, 0.3758474611768536, 0.7627395436733584, 0.6818189433976716], 'properties': {'score': 0.822629988193512, 'image_size': None, 'image_mode': None, 'image_format': None, 'page_number': 9, '_element_index': 89}, 'text_representation': 'all forcrs add up  =0, X mt= Aakash x Disturbed medium comyresshn! will cecome tnc hign pressure atea AP t=0'},\n",
       " {'type': 'Caption', 'bbox': [0.1606191804137411, 0.6972698884851792, 0.42985158026972903, 0.7392823462392769], 'properties': {'score': 0.4103292226791382, 'page_number': 9, '_element_index': 90}, 'text_representation': 'Put) Pnax sin(ku-wt+$)'},\n",
       " {'type': 'Caption', 'bbox': [0.16081358511236649, 0.7523841857910156, 0.3785245388369017, 0.7664816613290825], 'properties': {'score': 0.5716164708137512, 'page_number': 9, '_element_index': 91}, 'text_representation': '6(u,t) - Smax sin (ku-nt)'},\n",
       " {'type': 'Image', 'bbox': [0.08761134932312785, 0.8177223953546262, 0.775236829926696, 0.9737389508415671], 'properties': {'score': 0.6222699284553528, 'image_size': None, 'image_mode': None, 'image_format': None, 'page_number': 9, '_element_index': 92}, 'text_representation': 'imagint A p Vo Vo 1 p : A'},\n",
       " {'type': 'Page-footer', 'bbox': [0.7792927222915843, 0.9498838536879596, 0.9218778972384296, 0.9626637627096737], 'properties': {'score': 0.5280477404594421, 'page_number': 9, '_element_index': 93}, 'text_representation': '1 atm = 101, 325 Pa'},\n",
       " {'type': 'Image', 'bbox': [0.033792734146118164, 0.027251173468197092, 0.5432973451252225, 0.15166498632992015], 'properties': {'score': 0.5809040069580078, 'image_size': None, 'image_mode': None, 'image_format': None, 'page_number': 10, '_element_index': 94}, 'text_representation': '()'},\n",
       " {'type': 'table', 'bbox': [0.023980110506468182, 0.1794449675316904, 0.9007212964794303, 0.43775053585276885], 'properties': {'score': 0.5850192308425903, 'title': None, 'columns': 7, 'rows': 10, 'page_number': 10, '_element_index': 95}, 'text_representation': None, 'table': <sycamore.data.table.Table object at 0x000002528148E960>, 'tokens': None},\n",
       " {'type': 'Image', 'bbox': [0.025647015511235105, 0.4661226459577972, 0.8437363829793809, 0.7674461813534007], 'properties': {'score': 0.6034329533576965, 'image_size': None, 'image_mode': None, 'image_format': None, 'page_number': 10, '_element_index': 96}, 'text_representation': '(they are in pnase) speakers 2 r. 21 r-r =an p=arn in phage constructive $=2n(xn+1} out of pnase -p destruttive'},\n",
       " {'type': 'Section-header', 'bbox': [0.02135577081124994, 0.016550838947296143, 0.1102302044252806, 0.04383403179692287], 'properties': {'score': 0.4601122736930847, 'page_number': 11, '_element_index': 97}, 'text_representation': 'BEATS'},\n",
       " {'type': 'Image', 'bbox': [0.10250207442271558, 0.05488175971835267, 0.9327345256563984, 0.28751036700080423], 'properties': {'score': 0.21850523352622986, 'image_size': None, 'image_mode': None, 'image_format': None, 'page_number': 11, '_element_index': 98}, 'text_representation': 'Beats occur wnen you nave different frequency same f 4 y(u,t)= Acos(x,u-w,t) ya(ut)=Acos(Ku-wt) 4y=y,+y=A[Cos(K,u-Wt)+Cos{Ku-wt)] 10ud'},\n",
       " {'type': 'Image', 'bbox': [0.10141768636582774, 0.055097257389741784, 0.25813445562048803, 0.1774573232613358], 'properties': {'score': 0.46686577796936035, 'image_size': None, 'image_mode': None, 'image_format': None, 'page_number': 11, '_element_index': 99}, 'text_representation': 'same f'},\n",
       " {'type': 'Image', 'bbox': [0.016265660901612872, 0.5729161430807674, 0.5954718770860117, 0.7434497160070083], 'properties': {'score': 0.4071057140827179, 'image_size': None, 'image_mode': None, 'image_format': None, 'page_number': 11, '_element_index': 100}, 'text_representation': 'WAYES IN TUSES open prtssurt pressure nedes :nodes -Yarictts move freety dlsyiace- mtnt'},\n",
       " {'type': 'Caption', 'bbox': [0.017236531535281412, 0.5735462787104588, 0.2530929710291609, 0.5995131847905177], 'properties': {'score': 0.20167921483516693, 'page_number': 11, '_element_index': 101}, 'text_representation': 'WAVES iN TUBES'},\n",
       " {'type': 'Image', 'bbox': [0.07205002217353144, 0.754325642305262, 0.2952260850351068, 0.8217823552150353], 'properties': {'score': 0.2957933247089386, 'image_size': None, 'image_mode': None, 'image_format': None, 'page_number': 11, '_element_index': 102}, 'text_representation': 'Closed x pressure pressure nodt anti-node'},\n",
       " {'type': 'Caption', 'bbox': [0.29348783855196797, 0.08411464504167146, 0.6782117433185819, 0.09659072464587641], 'properties': {'score': 0.5175808668136597, 'page_number': 11, '_element_index': 103}, 'text_representation': 'Deats Otcur When you nave different frequency'},\n",
       " {'type': 'Caption', 'bbox': [0.34115103226673754, 0.2715296090817919, 0.37220831762386275, 0.2853074167288986], 'properties': {'score': 0.2212953120470047, 'page_number': 11, '_element_index': 104}, 'text_representation': '1o ud'},\n",
       " {'type': 'Caption', 'bbox': [0.34607191930843306, 0.7793104134353936, 0.7134763983231557, 0.8194782032686121], 'properties': {'score': 0.33746689558029175, 'page_number': 11, '_element_index': 105}, 'text_representation': \"# bdd harmonics oniy ,is it's closed on one end\"},\n",
       " {'type': 'Image', 'bbox': [0.2670338546173482, 0.843716864492379, 0.5783542198470876, 0.915375129849303], 'properties': {'score': 0.6164103150367737, 'image_size': None, 'image_mode': None, 'image_format': None, 'page_number': 11, '_element_index': 106}, 'text_representation': 'nodes'},\n",
       " {'type': 'Caption', 'bbox': [0.5551307291924199, 0.23820776097914753, 0.9186224635643295, 0.25745683557846966], 'properties': {'score': 0.41698387265205383, 'page_number': 11, '_element_index': 107}, 'text_representation': '47 = y,+ y= A[Cos(K.u-W,t)+Cos(Ku-Wt)'},\n",
       " {'type': 'Image', 'bbox': [0.5537592248071598, 0.2620216631421856, 0.972031701969195, 0.319279016232958], 'properties': {'score': 0.5206732749938965, 'image_size': None, 'image_mode': None, 'image_format': None, 'page_number': 11, '_element_index': 108}, 'text_representation': 'Ku-w+k-Wt ku-w-ku+t 2ACOS a +'},\n",
       " {'type': 'Image', 'bbox': [0.5593829577482199, 0.3350976308186849, 0.8808671975437599, 0.37705836576573987], 'properties': {'score': 0.41102543473243713, 'image_size': None, 'image_mode': None, 'image_format': None, 'page_number': 11, '_element_index': 109}, 'text_representation': 'Ht-Wt f-W,t+At 4=aA Cos CO$'},\n",
       " {'type': 'Image', 'bbox': [0.5834169025662579, 0.3874710681391697, 0.9062878572488133, 0.4573529561360677], 'properties': {'score': 0.3803185522556305, 'image_size': None, 'image_mode': None, 'image_format': None, 'page_number': 11, '_element_index': 110}, 'text_representation': 'JA COS'},\n",
       " {'type': 'Caption', 'bbox': [0.5633878587167475, 0.46718623591404335, 0.8755266213718849, 0.5421890183991077], 'properties': {'score': 0.38871875405311584, 'page_number': 11, '_element_index': 111}, 'text_representation': 'yr=aAcs(anfart) cos(n(f-fz)t)'},\n",
       " {'type': 'Caption', 'bbox': [0.6691761258282239, 0.11126061981799555, 0.8514261366445807, 0.12648710550046435], 'properties': {'score': 0.5156590938568115, 'page_number': 11, '_element_index': 112}, 'text_representation': 'y,(u,t)- Acbs(k,u-w,t)'},\n",
       " {'type': 'Caption', 'bbox': [0.671883450278753, 0.16326481688256358, 0.871220359319373, 0.17929630653530942], 'properties': {'score': 0.4989206790924072, 'page_number': 11, '_element_index': 113}, 'text_representation': 'ya(u,t)=Acos (Kau-w,t)'},\n",
       " {'type': 'Section-header', 'bbox': [0.019517682775666442, 0.016568608143750357, 0.2679911263381379, 0.0431363161872415], 'properties': {'score': 0.7833085060119629, 'page_number': 12, '_element_index': 114}, 'text_representation': 'DOPPLER EFFECT'},\n",
       " {'type': 'Text', 'bbox': [0.04041150250012362, 0.05698956695257449, 0.5912743580492237, 0.07427331045562145], 'properties': {'score': 0.3659999966621399, 'page_number': 12, '_element_index': 115}, 'text_representation': 'motion betwecn obscrver and source causino change in frequtncy'},\n",
       " {'type': 'Image', 'bbox': [0.0760999027686783, 0.0731193411583994, 0.7736623257021361, 0.9434365665211397], 'properties': {'score': 0.17382210493087769, 'image_size': None, 'image_mode': None, 'image_format': None, 'page_number': 12, '_element_index': 116}, 'text_representation': '16 13 7=sVs 4t cTo = CTs +VsTs V fo fs fs ((+V4) fo t$ fa C fs t+ Vs To =Ts-t As T. : C+ VD fo Ct Vo Vo -(*)(+)+s'},\n",
       " {'type': 'Caption', 'bbox': [0.0984564250028586, 0.24967806946997548, 0.3591648294955869, 0.3202053144866345], 'properties': {'score': 0.294658899307251, 'page_number': 12, '_element_index': 117}, 'text_representation': '=s+st'},\n",
       " {'type': 'Caption', 'bbox': [0.09099021742615519, 0.33023972604788987, 0.2600187712077853, 0.38948481690649894], 'properties': {'score': 0.2112300992012024, 'page_number': 12, '_element_index': 118}, 'text_representation': 'CTo=CT+Vs T'},\n",
       " {'type': 'Caption', 'bbox': [0.46525824824465983, 0.3033600975485409, 0.6726970431170886, 0.37582917306937424], 'properties': {'score': 0.3416154980659485, 'page_number': 12, '_element_index': 119}, 'text_representation': 'Vs is if source is movinq AWAY from obstrver'},\n",
       " {'type': 'Caption', 'bbox': [0.7136995339695411, 0.14981646631278245, 0.731813020344022, 0.1772779015933766], 'properties': {'score': 0.3416335880756378, 'page_number': 12, '_element_index': 120}, 'text_representation': '0<'},\n",
       " {'type': 'Image', 'bbox': [0.09836658646788778, 0.4003083098168467, 0.7859527974189082, 0.5132860669902727], 'properties': {'score': 0.296274870634079, 'image_size': None, 'image_mode': None, 'image_format': None, 'page_number': 12, '_element_index': 121}, 'text_representation': 't fo fs fs (C+V4) fo f$ c t+Vs'},\n",
       " {'type': 'Caption', 'bbox': [0.10561350327503832, 0.6407805050120634, 0.2178764101825183, 0.655202678605622], 'properties': {'score': 0.4476616382598877, 'page_number': 12, '_element_index': 122}, 'text_representation': 'To = Ts - t'},\n",
       " {'type': 'table', 'bbox': [0.10364559028722063, 0.6585903541714537, 0.6047014164019234, 0.7626502841126686], 'properties': {'score': 0.29013529419898987, 'title': None, 'columns': 4, 'rows': 2, 'page_number': 12, '_element_index': 123}, 'text_representation': None, 'table': <sycamore.data.table.Table object at 0x00000252814A9F10>, 'tokens': None},\n",
       " {'type': 'Text', 'bbox': [0.2900609366501434, 0.804103926116345, 0.33918839466722706, 0.8250285129921109], 'properties': {'score': 0.19710111618041992, 'page_number': 12, '_element_index': 124}, 'text_representation': 'Vs'},\n",
       " {'type': 'Caption', 'bbox': [0.2344255809542499, 0.8393687079934513, 0.2517691745033747, 0.8636215060364967], 'properties': {'score': 0.1990373432636261, 'page_number': 12, '_element_index': 125}, 'text_representation': ''},\n",
       " {'type': 'Formula', 'bbox': [0.3072624206542969, 0.8756551555558747, 0.48706112632268594, 0.9331440645105699], 'properties': {'score': 0.29611748456954956, 'page_number': 12, '_element_index': 126}, 'text_representation': ''},\n",
       " {'type': 'Image', 'bbox': [0.5924421382855766, 0.854344087488511, 0.9640274047851562, 0.9620863970588235], 'properties': {'score': 0.4052789509296417, 'image_size': None, 'image_mode': None, 'image_format': None, 'page_number': 12, '_element_index': 127}, 'text_representation': 'if 0bstruer ls movIng TbWARDS tne source botu sourre fo fs t+ Vs observtr Moving if sourte is moving AwAY from observer'}]"
      ]
     },
     "execution_count": 5,
     "metadata": {},
     "output_type": "execute_result"
    }
   ],
   "source": [
    "documents[0].elements"
   ]
  },
  {
   "cell_type": "code",
   "execution_count": 6,
   "metadata": {},
   "outputs": [
    {
     "name": "stdout",
     "output_type": "stream",
     "text": [
      "[Image]: EXAM #1\n",
      "[Section-header]: OSCILLATIONS\n",
      "[Caption]: anuthing thot repeans in a pattern\n",
      "[Text]: - period :-time to repeat an oscillation\n",
      "[Caption]: from one peak to onother (yeax-to-peak)\n",
      "[Caption]: x(t) equation of motion\n",
      "[Image]: m Y timt * F= ma A = Amplitude F=-Kx (spring) F = ma=-kx dx m -kx dta ata\n",
      "[Image]: what if x(t)=Asin(nt+$) dx = A cos(wt+) dt dt d\"1 -Aw*sin(wt+p)\n",
      "[Caption]: piug (a) into (1)\n",
      "[Caption]: -Aw*sin(nt+p)= -K Asin(wt+$)\n",
      "[Image]: x(t)= Asin(at+) m v(t)= Awcos(wt+p) a (t) - -An'sin (nt+p) M p x time\n",
      "[Text]: strong spring= lets ostillation strong mass = more oscination\n",
      "[List-item]: Asin(wt,+$) - Asin(nt+$)=0\n",
      "[List-item]: Nt,+$-(wt,+p) 2\n",
      "[List-item]: Wt,-wt,=27\n",
      "[List-item]: w(ta-t,) - an\n",
      "[Image]: W p :ar P - w- or p p=atf P:2r k\n",
      "[Image]: F = mg - Kto no mass new equitibrim positon same sprinoj w/mass\n",
      "[Image]: energy in the system:. Ku du = -ku* - Potential energy (U) . Kinetie energy (W) - Fdu mva E= U+K x(t)= Asin(wt+4) .v(t)= Awcos (wt+) 5kA*sin*(wt+p)+5x A3 cos' (Wst+g) KA[sin*(wt+$)+ cos*(ast+p)] KA2 $+A 2\n",
      "[Image]: Dampino Fa -bv ?whatif b-0 Fnets -ku -bv = ma u(t) - Asin (nt+4) ma+ bv+ku=0 ? whQt lt K+0 mu' + bQ'+ ku =0 mu\" =-bu' -t Q(t)- Ae\n",
      "[Caption]: 0(t) 1 A e\n",
      "[Caption]: sin(At+\n",
      "[Text]: suo to mu tbu' + =0\n",
      "[Text]: u(t)= Ae-at sin(mt+p) - Ae-at w2sin(wt+4) =Aa'e-dtsin(nt+$) - aAwxe*t cos(wt+g)- Aw'e-at in(nt+) a'e-ut sin(wt+p) - auwe-nt cos(mt+p) -entm?sin(wt+p)] ptug back in1o mu'+ bu'+ ku- O ma-bd-mw'+x=0 bw - amwk = 0 b- y-mW*+k=0 X:b 4M am 4m K b2 solvino w w/ drag torce W = m 4m2 frequency of danped osciulator * NOT time dependent\n",
      "[Caption]:  equation os motion sor a damped oscillator Sin(wt+ $)\n",
      "[Image]: under damped\n",
      "[Caption]: under d amped\n",
      "[Text]: + when the damping term is weak, cousing many oscilations and then. comino to a stop penduium, grandfather ctock\n",
      "[Caption]: * amplitude depends on time *W does not depend on time\n",
      "[Caption]: WAYES\n",
      "[Caption]: + transverse wave\n",
      "[Text]: car going over a speed bump\n",
      "[Text]: Ampl1t ude (A) m\n",
      "[Image]: period (t) s 1 frequency (f) s Or Ht wave iength (7) m m/s wove speed (c)\n",
      "[Image]: distance : time T c : T 1\n",
      "[Caption]: distance c : time T\n",
      "[Caption]: s [+] frequency: how opten qKa Hz\n",
      "[Image]: y(ut=Asink ltt t=0 y(u,0)= y(x+3,0) aka wave repeats Asin(ku)= Asin(kutKA) * same as rignt side wnen we add an\n",
      "[Caption]: same as right side when we add an\n",
      "[Caption]: Ku+2 Ku+ KT\n",
      "[Page-footer]: [m or rad ]\n",
      "[Image]: 27 Nave number A (NOT spring constant)\n",
      "[Image]: yu0)Asin(ku) ltt t 00 y(ut)=Asin(KQ-t+p) formula for oscillating waves\n",
      "[Image]: 0t ay. -An cos(ka-t+) at ay -AWsin(ku-w1+g) 0ta\n",
      "[Caption]: ay AKcos(ku-t+) a a'y -AK'sin(ku-Wt+$)\n",
      "[Text]: S1ope of the wave\n",
      "[Text]: curvatue (concavity)\n",
      "[Image]: a'y 0ta (3) -Aw'sin (... ) 4t2 32 2 = 2 a'y -Ak'sin (...) 3 K 4n2 au' 1 lnear wave equation ay. at* au2 C :\n",
      "[Image]: Lt 37 1: 2\n",
      "[Image]: 47 as\n",
      "[Caption]: 40 L=an : 2.\n",
      "[Text]: n? 1 : a\n",
      "[Text]: L= 1tngth\n",
      "[Text]: n = harmonic #\n",
      "[Section-header]: YTot = y,+yx sin(ku-ut)+ sin(ku+wt)\n",
      "[Text]: yT = A[ sin(Ku) cos(wt)- cos(Kk}sm(wt)+ sin(ku) cos(at)+ cos(kttsin(wt) Yr= Aasin(k)coswt))\n",
      "[Text]: if sin(ku)=0 =YTot0\n",
      "[Text]: sin (xQ)sin) KL = nr (k: L=nK nA L = 2\n",
      "[Text]: sin (xQ) s sin (r)\n",
      "[Section-header]: SPEfD OF WAVE iN A $TRING\n",
      "[Image]: net force (x-dir) =\n",
      "[Caption]: f: ay Fa ay\n",
      "[Caption]: Fy (string is just goino up  down)\n",
      "[Image]: Fnet =F+F ay ay : F ma aR ,-  FT M Au ay F+ a'y ota u ady a'y at' du* F t C2.\n",
      "[Section-header]: PENDuLum\n",
      "[Image]: mo cs0 1 1 Mg 3ine\n",
      "[Image]: Fnety = F-mgcose = 0 fnet a - - mgsino = na A = -gsine 1 do u measures arc lenqth -0sin To 3lne dt Q=0 d'e sine dta 03 0$ Sine= 0 - 3! 5 0is small for sma esine d'0 1 dt' 9 V 9\n",
      "[Caption]: is $ m a II\n",
      "[Section-header]: ENER6Y iN WAVtS (t)\n",
      "[Caption]: dE=dK + dU dE= Jamv2+Kay2 Idmu'+ 7y'w2dm dE = *udu t\n",
      "[Caption]: Ks= n$m]\n",
      "[Caption]: [m=u4u] 2 [K=]\n",
      "[Image]: y(u,t)=Asin(-wt) 2  v(ut}=-AW cos(-wt) plua these dt=mn*wcos'u-wt)+ A'wsin?(\"u-nt dE=uAw)du dF=tMA'n' au\n",
      "[Caption]: A 1 M ?\n",
      "[Section-header]: POWer IN WAYES (p)\n",
      "[Image]: Ea p : p=#AwuC 4t\n",
      "[Section-header]: Intensity IN WAvES (1}\n",
      "[Section-header]: SOUND WAVES\n",
      "[Image]: all forcrs add up  =0, X mt= Aakash x Disturbed medium comyresshn! will cecome tnc hign pressure atea AP t=0\n",
      "[Caption]: Put) Pnax sin(ku-wt+$)\n",
      "[Caption]: 6(u,t) - Smax sin (ku-nt)\n",
      "[Image]: imagint A p Vo Vo 1 p : A\n",
      "[Page-footer]: 1 atm = 101, 325 Pa\n",
      "[Image]: ()\n",
      "[Image]: (they are in pnase) speakers 2 r. 21 r-r =an p=arn in phage constructive $=2n(xn+1} out of pnase -p destruttive\n",
      "[Section-header]: BEATS\n",
      "[Image]: Beats occur wnen you nave different frequency same f 4 y(u,t)= Acos(x,u-w,t) ya(ut)=Acos(Ku-wt) 4y=y,+y=A[Cos(K,u-Wt)+Cos{Ku-wt)] 10ud\n",
      "[Image]: same f\n",
      "[Image]: WAYES IN TUSES open prtssurt pressure nedes :nodes -Yarictts move freety dlsyiace- mtnt\n",
      "[Caption]: WAVES iN TUBES\n",
      "[Image]: Closed x pressure pressure nodt anti-node\n",
      "[Caption]: Deats Otcur When you nave different frequency\n",
      "[Caption]: 1o ud\n",
      "[Caption]: # bdd harmonics oniy ,is it's closed on one end\n",
      "[Image]: nodes\n",
      "[Caption]: 47 = y,+ y= A[Cos(K.u-W,t)+Cos(Ku-Wt)\n",
      "[Image]: Ku-w+k-Wt ku-w-ku+t 2ACOS a +\n",
      "[Image]: Ht-Wt f-W,t+At 4=aA Cos CO$\n",
      "[Image]: JA COS\n",
      "[Caption]: yr=aAcs(anfart) cos(n(f-fz)t)\n",
      "[Caption]: y,(u,t)- Acbs(k,u-w,t)\n",
      "[Caption]: ya(u,t)=Acos (Kau-w,t)\n",
      "[Section-header]: DOPPLER EFFECT\n",
      "[Text]: motion betwecn obscrver and source causino change in frequtncy\n",
      "[Image]: 16 13 7=sVs 4t cTo = CTs +VsTs V fo fs fs ((+V4) fo t$ fa C fs t+ Vs To =Ts-t As T. : C+ VD fo Ct Vo Vo -(*)(+)+s\n",
      "[Caption]: =s+st\n",
      "[Caption]: CTo=CT+Vs T\n",
      "[Caption]: Vs is if source is movinq AWAY from obstrver\n",
      "[Caption]: 0<\n",
      "[Image]: t fo fs fs (C+V4) fo f$ c t+Vs\n",
      "[Caption]: To = Ts - t\n",
      "[Text]: Vs\n",
      "[Image]: if 0bstruer ls movIng TbWARDS tne source botu sourre fo fs t+ Vs observtr Moving if sourte is moving AwAY from observer\n"
     ]
    }
   ],
   "source": [
    "lines = []\n",
    "for elem in documents[0].elements:\n",
    "    text_content = elem.get('text_representation', '')\n",
    "    if text_content:\n",
    "        # Format: [Type of Data]: Content\n",
    "        lines.append(f\"[{elem['type']}]: {text_content}\")\n",
    "\n",
    "# Create one string containing all lines (separated by newlines).\n",
    "output_str = \"\\n\".join(lines)\n",
    "\n",
    "print(output_str)"
   ]
  },
  {
   "cell_type": "code",
   "execution_count": 7,
   "metadata": {},
   "outputs": [
    {
     "name": "stdout",
     "output_type": "stream",
     "text": [
      "\n",
      "=== SUMMARIZED LECTURE NOTES ===\n",
      "Oscillations arise whenever a system repeats a pattern over time, such as a mass on a spring undergoing simple harmonic motion described by x(t) = A sin(ωt + φ), where the period T is the time to complete one cycle, the frequency f = 1/T measures cycles per second, and the amplitude A is the maximum displacement. The restoring force F = –kx leads to acceleration a(t) = –ω²x(t), with ω = √(k/m). If damping is introduced (e.g., a drag force proportional to velocity), the motion can be underdamped (still oscillatory), overdamped (no oscillations), or critically damped (fastest return without oscillation). Waves in a medium—transverse or longitudinal—are governed by a wave equation relating their spatial curvature to their temporal acceleration, with wave speed c = λf. Standing waves form when incident and reflected waves interfere, creating nodes (points of zero amplitude) and antinodes (points of maximum amplitude). Beats occur when two waves of slightly different frequencies superimpose, producing alternating constructive and destructive interference. In a pendulum, small-angle approximations reduce the motion to simple harmonic oscillations with a period of T = 2π√(l/g). Sound waves can be treated as longitudinal pressure variations, exhibiting phenomena such as Doppler shifts when there is relative motion between source and observer, and pipes (open or closed) support standing sound waves at discrete harmonic frequencies. Across all these systems, energy can be tracked as potential (e.g., in springs or pressure differences) and kinetic (e.g., in moving masses or fluid particles), and the power or intensity of a wave describes how quickly that energy is transmitted through space.\n"
     ]
    }
   ],
   "source": [
    "prompt = f\"Summarize the following lecture notes into one paragraph in detailed; including the important key terms, key words, and key points:\\n\\n{output_str}\"\n",
    "\n",
    "# 5) Call the 'o1' or 'o1-mini' model\n",
    "#    'max_completion_tokens' must be large enough to allow for\n",
    "#    the model’s internal reasoning + any visible output.\n",
    "response = openai.chat.completions.create(\n",
    "    model=\"o1\",  # or \"o1-mini\" if you have access and prefer a smaller model\n",
    "    messages=[\n",
    "        {\"role\": \"user\", \"content\": prompt}\n",
    "    ],\n",
    "    max_completion_tokens=15000  # Example large buffer\n",
    ")\n",
    "\n",
    "# 6) Extract the model’s visible answer\n",
    "assistant_message = response.choices[0].message.content\n",
    "\n",
    "# 7) Print your summarized paragraphs\n",
    "print(\"\\n=== SUMMARIZED LECTURE NOTES ===\")\n",
    "print(assistant_message)\n",
    "\n",
    "# # 8) (Optional) Inspect usage details\n",
    "# #    especially how many tokens went to reasoning vs. visible output\n",
    "# print(\"\\n=== TOKEN USAGE DETAILS ===\")\n",
    "# print(response.usage.completion_tokens_details.reasoning_tokens(\"completion_tokens_details\", {}))"
   ]
  },
  {
   "cell_type": "code",
   "execution_count": 8,
   "metadata": {},
   "outputs": [
    {
     "name": "stdout",
     "output_type": "stream",
     "text": [
      "\n",
      "=== EMBEDDING ===\n",
      "[-0.020761523, 0.0047785635, -0.013222671, -0.0066002053, -0.037545856, 0.012213534, -0.002632291, 0.006585365, -0.027276397, -0.03143167, 0.0062700096, 0.030318651, 0.0007007385, 0.00026944347, 0.011538302, 0.0030088627, -0.031045822, -0.0024987287, 0.014951562, 0.023863137, -0.023135966, 0.013742081, -0.035705663, 0.008688972, -0.024768393, 0.02859718, -0.01662109, -0.008458948, -0.026059495, 0.002457918, 0.02117705, -0.0031071794, -0.041879214, 0.038139466, -0.016487528, -0.054048225, -0.028196493, 0.017437305, -0.015359669, -0.0148699405, -0.008087941, -0.011478941, -0.024338026, 0.0016658192, -0.012792304, 0.010469804, -0.0057839914, -0.0004363964, 0.043303877, -0.053246852, 0.016517209, -0.05200027, -0.0046375813, 0.04291803, -0.009994915, -0.02003435, 0.029636, -0.006819099, 0.018669046, 0.0012382342, 0.03882212, 0.0070936442, -0.036358636, 0.021904223, -0.003951219, 0.021266092, 0.0048713153, 0.0071567153, -0.0019014083, -0.0039104084, -0.008273445, -0.004904706, 0.03368739, 0.012465818, 0.011070834, 0.007835657, 0.016279764, 0.04226506, 0.008280865, 0.025272962, -0.024976157, 0.02570333, -0.030392852, 0.0036284435, -0.0057543106, 0.01826836, -0.0077391956, -0.05200027, 0.02972504, 0.01590876, -0.018149637, 0.03143167, 0.006396152, 0.033538986, 0.012169013, 0.017363103, 0.003207351, 0.00860735, 0.028612021, 0.03312346, 0.029383713, -0.03315314, -0.00860735, -0.023818618, -0.031283267, -0.031223906, -0.0148551, 0.013423014, 0.020657642, 0.07135197, -0.009876193, 0.0066076256, 0.039860938, 0.017481826, -0.039890617, -0.02570333, 0.05446375, -0.030007005, -0.021488696, -0.00053193053, 0.0023150805, 0.058144137, 0.01372724, 0.03374675, -0.003888148, 0.042413462, 0.031876877, -0.035675984, -0.00629227, -0.015144485, 0.012169013, 0.04291803, -0.002391137, -0.026519544, 0.030259289, -0.016724972, -0.00054074195, 0.050041355, 0.03760522, -0.018713567, -0.042413462, 0.004051391, -0.015923599, -0.010506904, 0.018832289, -0.022082306, -0.046657775, 0.0018856406, -0.027899688, -0.018683886, -0.023937339, -0.029205631, -0.022468153, 0.017303742, -0.004348196, -0.04918062, -0.019618824, -0.014773479, 0.024085741, -0.013007487, -0.022111988, -0.03879244, 0.0042665745, -0.04336324, 0.007813397, -0.030986462, 0.020449879, -0.036388315, -0.0030125726, 0.012109652, 0.0035783576, -0.00026364648, -0.017229542, -0.02570333, -0.013074269, 0.009445826, 0.016754653, 0.023091445, -0.006711507, 0.007768876, -0.018372241, -0.008926416, 0.037308414, -0.010165578, 0.009097079, 0.005980625, -0.012903606, -0.0014543454, -0.034696527, 0.002329921, 0.009319684, -0.0011946409, 0.0458564, 0.039564133, -0.02288368, -0.031758156, -0.002172243, -0.011538302, -0.032945376, 0.017422466, -0.044817585, -0.034102917, 0.0034039845, 0.007843077, -0.030511575, 0.021369973, 0.037902024, -0.037931703, 0.034132596, -0.023848297, 0.0013615938, 0.010981793, -0.01373466, -0.008117622, -0.037308414, -0.010714668, -0.011783166, 0.043660045, 0.025985295, 0.014921881, 0.020998968, -0.016710132, 0.024827754, 0.019544622, -0.03710065, -0.004845345, -0.011805426, -0.025851732, -0.044817585, 0.03036317, -0.0063330806, 0.057402123, -0.035527583, 0.011204396, -0.048408926, 0.031312946, 0.02916111, 0.01880261, 0.008948676, 0.004066231, -0.02229007, -0.0073459283, 0.029532116, -0.05137698, -0.022201028, -0.023165645, 0.011226657, 0.052148674, -0.00066920294, -0.039089244, -0.02117705, -0.030749017, -0.0041886633, -0.010046856, -0.041196562, 0.020776363, -0.0026230158, 0.010788869, -0.014981242, -0.014343111, -0.0019570591, -0.0037063549, -0.0007406217, 0.0006599278, -0.032856334, -0.00912676, 0.006930401, 0.0035078663, -0.026742147, 0.0031275847, -0.0131633105, 0.028686222, 0.013808861, -0.027068634, 0.024338026, -0.025035517, 0.0076278937, -0.018594846, 0.022052625, -0.012940707, 0.011048573, 0.007549982, 0.017526347, -0.0013115079, 0.010581105, -0.014929301, 0.025495566, -0.05211899, -0.021369973, 0.005438955, 0.0038770179, -0.038495634, 0.025540087, 0.04282899, 0.0048713153, 0.032886017, -0.054582477, -0.022304911, -0.033479627, 0.017837992, 0.024990998, 0.037545856, -0.022408793, -0.023848297, -0.038554996, -0.04404589, 0.025599448, -0.007828237, -0.029472755, -0.046509374, 0.017763792, 0.005980625, -0.03383579, -0.04345228, 0.003928959, -0.015775196, 0.0008737203, 0.009994915, 0.0030979041, -0.029873442, 0.03701161, 0.016324285, -0.034102917, 0.0078059766, -0.0034114048, -0.029368874, -0.008266024, -0.005668979, 0.0028753004, 0.05387014, -0.008985777, 0.023640534, 0.010269459, -0.0007002748, 0.043333557, -0.010247199, 0.030659977, 0.004299965, -0.011107935, 0.010722088, 0.013957264, 0.02456063, -0.029250152, -0.021310613, 0.0025302642, -0.028448777, -0.0073236683, 0.0025580898, 0.0020757813, -0.007197526, 0.00085980754, -0.008763174, -0.0029495016, -0.019040054, 0.03250017, -0.03600247, 0.0023521811, -0.04003902, 0.03034833, 0.008399587, -0.019707864, -0.0048267944, 0.031876877, -0.029799242, 0.009037718, -0.022631396, -0.01780831, 0.0028678803, 0.024501268, 0.02168162, 0.008340226, 0.013400755, 0.010462383, 0.0036878046, 0.00341697, 0.045411196, -0.0285675, -0.020776363, -0.037545856, 0.01604232, -0.052148674, 0.02573301, 0.058767427, 0.014335691, -0.00088021293, 0.022661077, -0.020702163, -0.029917963, 0.04739979, 0.042977393, -0.03359835, 0.017570868, 0.0019403639, 0.024545789, 0.028775264, 0.0013022327, -0.012792304, 0.025866572, 0.011597663, 0.063694395, -0.0020127103, -0.06226973, 0.017570868, -0.019351698, 0.019485261, 0.04808244, -0.039534453, -0.043630365, 0.036388315, 0.009557127, 0.010640467, 0.0604889, 0.0028715902, -0.025599448, -0.023803776, 0.058708068, -0.011946409, 0.033509307, 0.042383783, -0.0052905525, -0.029042387, 0.032796975, 0.01834256, 0.004923256, -0.032144003, 0.010247199, 0.04683586, -0.03022961, 0.0039029883, -0.045975126, -0.0036711092, 0.0031813807, 0.0060956366, 0.02917595, -0.00854057, -0.013593677, 0.011820267, 0.0037378904, -0.05597746, -0.01938138, -0.047340427, 0.0076353136, -0.020642802, -0.009586807, -0.008488628, -0.017793471, -0.0070713838, -0.04324452, 0.008807695, -0.015211266, 0.0056838193, -0.02175582, -0.0011362074, 0.050011676, 0.0012521469, 0.013326554, 0.027187355, -0.047073305, 0.01773411, -0.03935637, 0.005602198, 0.044283334, 0.035082374, -0.013103949, 0.049239982, 0.025406525, 0.010143317, 0.011360219, -0.004845345, 0.019589143, -0.01484768, -0.046123527, -0.07194558, 0.048972856, 0.044372376, -0.040395185, -0.0017901063, -0.023803776, -0.0003652095, -0.06262589, -0.008407007, 0.010729508, 0.03250017, 0.013267192, -0.014402472, -0.023744415, 0.00969069, 0.0066558565, 0.009942974, 0.026846029, -0.003828787, 0.011085674, 0.018550325, 0.0128219845, 0.017006937, 0.009831672, -0.01771927, -0.018743249, 0.01143442, 0.01654689, 0.006522294, -0.041077837, 0.031787835, 0.027662244, -0.024248984, 0.025465885, -0.0043110955, -0.059153274, -0.00025298004, -0.017541187, 0.013037168, -0.003261147, -0.006555685, 0.01141216, -0.013215251, -0.017541187, -0.03439972, 0.020182753, 0.010610785, 0.015775196, -0.014773479, 0.014743798, 0.03502301, 0.027736446, -0.038109787, 0.011775746, 0.008473788, 0.016828854, -0.039712533, -0.009304843, -0.03439972, -0.013452696, 0.0054129846, -0.03760522, 0.006117897, 0.023892818, -0.04965551, 0.0674935, -0.020316316, 0.024471588, -0.02050924, 0.0066039157, -0.021904223, 0.034637164, 0.012295155, -0.0067040874, 0.039059564, -0.008844795, 0.013326554, -0.037278734, 0.018758088, 0.016190723, 0.0057914113, 0.036299273, 0.0067337677, 0.0047896937, -0.010373342, -0.015389349, 0.008392167, 0.04704362, -0.02398186, 0.02681635, 0.013341393, 0.045055028, -0.014558295, 0.010358501, 0.0049306764, -0.008028581, 0.016339125, -0.03775362, 0.0029253862, 0.018401923, -0.019322017, -0.026059495, -0.009972654, 0.0063145305, -0.004344486, -0.031787835, -0.007305118, 0.02398186, -0.037991066, -0.011478941, 0.009052559, -0.008867055, -0.024145102, -0.015107384, 0.008028581, -0.03202528, 0.036180552, 0.022468153, 0.014402472, 0.051822186, 0.014046306, 0.019678185, -0.0026230158, 0.006173548, 0.0036414287, -0.012094812, -0.0026582615, -0.025376843, -0.030140568, 0.013994365, -0.008228924, 0.007535142, -0.037961382, 0.0015804877, 0.016992098, -0.010595946, -0.0057431804, 0.05467152, -0.017259222, -0.0025562348, -0.0072754375, 0.009853932, 0.028849464, 0.014127927, -0.009957815, 0.04285867, 0.019782066, -0.023284368, 0.005268292, 0.007783716, 0.02221587, -0.013192991, -0.0059732045, -0.0065964954, -0.008874475, 0.01258454, 0.015656473, -0.01892133, 0.0072754375, 0.009260322, -0.013259772, 0.01198351, 0.01941106, 0.040395185, -0.010825969, -0.019574303, 0.036358636, 0.010440122, 0.010900171, -0.015804876, 0.005876743, 0.00077818613, 0.015285468, 0.025985295, -0.0041070418, 0.019277498, 0.018134797, 0.056927238, 0.016072001, 0.022987563, 0.004162693, 0.019099414, 0.00037355715, -0.0042517344, 0.056066502, -0.019366538, -0.0004929749, 0.010825969, 0.004659842, 0.006229199, 0.022230709, 0.026608586, 0.0182832, 0.005902713, 0.004615321, -0.012770044, -0.02050924, 0.015834557, -0.013445275, -0.020449879, 0.033628028, 0.013089109, 0.0114566805, -0.018535484, -0.020494398, 0.013311713, 0.034281, 0.005323943, -0.0058136717, -0.017288903, -0.001942219, 0.008503469, 0.021399654, -0.009490346, 0.0035672274, -0.009809412, 0.014127927, -0.047755957, 0.014491513, 0.013445275, 0.039118923, 0.002120302, 0.0020535209, 0.01595328, 0.0029420815, 0.026653107, -0.008147303, 0.034577806, 0.008125043, -0.008355066, 0.013296872, -0.021919064, -0.01997499, 0.013230092, -0.0036340086, -0.004626451, 0.01087049, -0.015114805, 0.0068153893, 0.0048824456, -0.019767227, 0.033301543, 0.025643969, -0.02174098, -0.011805426, -0.026638266, -0.06286334, 0.027291238, -0.0023484712, 0.0029810371, 0.021280933, -0.008792854, 0.010447543, 0.050961453, 0.015070284, -0.048765093, -0.024234144, -0.0013291307, -0.02111769, -0.018357402, 0.024471588, 0.0072309165, 0.0020294054, 0.06458481, -0.013437855, 0.020494398, 0.0030719338, 0.015240947, -0.02062796, -0.00570237, 0.018951012, 0.009742631, -0.0467765, -0.01654689, 0.032945376, -0.020449879, -0.009839092, 0.008659291, -0.009824252, -0.013682719, -0.007642734, -0.019158775, -0.004904706, -0.0012382342, -0.021904223, -0.044223975, -0.0036265885, 0.03425132, 0.014276329, 0.023774097, -0.0012465818, 0.0027528682, 0.042532183, -0.0015953279, -0.031698793, -0.00064601505, 0.018772928, 0.0077466154, -0.002290965, 0.008251185, -0.0073978696, -0.016487528, 0.0136752995, 0.016294606, 0.040306143, -0.014409892, 0.030096047, -0.019322017, 0.02509488, -0.025035517, -0.012517759, -0.010536584, 0.02969536, -0.018980691, -0.0043296455, -0.008666712, -0.017021777, 0.018505804, 0.019173615, 0.0017196151, 0.01488478, -0.01314847, 0.0007294915, 0.04808244, -0.028389417, 0.014150187, -0.008399587, 0.0014135347, -0.049091578, 0.0016713842, -0.014639916, -0.0020869116, 0.03775362, -0.011864788, 0.016057162, -0.007909859, -0.0014478528, -0.01997499, -0.0073978696, -0.0075091715, 0.009475506, -0.02518392, 0.008889316, 0.00048648225, -0.011182136, -0.027306078, -0.027914528, 0.025911093, -0.038525313, -0.046717137, 0.0073978696, 0.0067708683, -0.0057877013, -0.0066558565, 0.013304293, 0.007141875, -0.013452696, 0.011367639, -0.017006937, 0.02062796, 0.013519476, 0.01761539, -0.02050924, -0.009230642, 0.010618206, 0.00079673645, -0.0053016827, 0.008176983, -0.0020090002, -0.003821367, 0.0020869116, -0.0034596354, -0.018505804, 0.0141427675, 0.0057914113, -0.017066298, -0.003776846, -0.048379246, 0.010647886, -0.00313686, 0.042650905, 0.020420197, -0.015144485, 0.011938989, -0.009393885, -0.00038144106, -0.007564822, -0.020227274, -0.00400687, 0.018520644, 0.008844795, -0.0077391956, 0.01880261, -0.0040254206, 0.027172515, -0.01255486, -0.03431068, -0.023121124, -0.015611953, -0.00051430776, 0.0025543796, 0.00023999483, 0.019322017, 0.02404122, -0.018624526, -0.011055994, 0.006106767, 0.002966197, 0.0047303326, 0.015567432, -0.025822053, -0.012272894, -0.012339676, 0.0025413944, 0.00018932925, 0.00917128, 0.016264925, -0.04523311, 0.011241497, -0.008837375, -0.019500101, -0.0042146337, 0.015730675, 0.034370042, -0.022512674, -0.052890684, 0.016903056, -0.04458014, 0.004782274, -0.0074535203, -0.024812914, 0.0004164548, 0.014625076, 0.0056355884, -0.002166678, 0.013259772, -0.014246649, 0.008407007, -0.0011575402, -0.008993197, 0.02282432, -0.051080175, 0.010588525, -0.03840659, -0.006466643, -0.0088967355, 0.009653589, -0.021637099, -0.0028419096, 0.0075907926, -0.009853932, 0.029947644, -0.006399862, -0.0028456198, 0.011924149, 0.024471588, 0.04223538, -0.027543522, 0.022468153, 0.008288285, 0.025451045, 0.031105185, -0.018119957, 0.014239229, 0.009364204, 0.030481894, -0.013103949, 0.006136447, 0.036150873, 0.007383029, 0.007716935, -0.034488764, 0.03882212, 0.00032370316, 0.02740996, 0.026029816, -0.0075240117, 0.0155971125, 0.015196426, 0.010818549, 0.020435037, -0.013541737, 0.033360902, 0.014728958, -0.022082306, 0.003309378, -0.013489796, -0.0029420815, 0.03710065, -0.021562897, -0.006800549, 0.0005379594, 0.0065593948, 0.023655374, 0.0001988363, -0.03202528, -0.012851665, -0.027914528, -0.012836824, 0.007702095, -0.0009265887, 0.010647886, 0.016888216, -0.009438405, 0.012881345, 0.008614771, 0.01996015, -0.025970455, 0.009178701, 0.016235244, 0.019559462, -0.03540886, -0.0049603567, -0.03080838, -0.010581105, 0.0297102, -0.02914627, 0.021325452, -0.021830022, -0.013549157, 0.014818, -0.017526347, -0.0011807282, -0.004055101, 0.022052625, -0.01890649, -0.024219304, -0.029027548, -0.01202803, -0.04805276, 0.009520027, 0.026415663, -0.0060511157, -0.00032068873, 0.024753554, -0.018490963, -0.00012753348, -0.021073168, 0.0075907926, 0.0071084844, 0.008288285, 0.0025488145, -0.004147853, 0.030630296, 0.024456749, -0.025005838, 0.018090276, 0.042561866, 0.00917128, -0.044728544, 0.010677567, -0.015189006, -0.00040254203, 0.0057246303, -0.010833389, -0.009653589, 0.010180418, -0.00097389205, 0.020360837, 0.0071789757, 0.0051124697, 0.011842527, -0.0056281686, 0.008392167, 0.014172448, -0.047132663, -0.013831122, 0.01719986, -0.028285535, 0.0050048777, 0.006971212, 0.0064703533, 0.0014441428, -0.013044588, 8.678074e-05, 0.0032240464, 0.027558362, -0.0016556164, 0.025005838, -0.01200577, -0.034577806, -0.018209, 0.017986394, 0.012681002, -0.011538302, -0.010202679, 0.01369756, -0.003550532, -0.016932737, -0.010098796, 0.033182822, -0.039890617, 0.0005064239, 0.013823702, -0.016161043, 0.009082239, -0.0040736515, 0.010395602, -0.0132894525, 0.0008074029, 0.020806044, 0.004511439, 0.0048898654, 0.015285468, 0.0055131563, -0.025347164, -0.026771829, -0.021251252, -0.009401305, 0.009208381, -0.0029921674, 0.011768326, -0.03594311, -0.027513841, 0.024085741, -0.023625694, -0.007160425, 0.002971762, -0.007709515, 0.035527583, 0.01832772, 0.01027688, -0.0013903468, -0.005873033, 0.0062032286, 0.083936505, 0.0043852967, 0.025955614, -0.012072551, 0.009653589, -0.017244382, -0.021429336, 0.03434036, 0.035201095, 0.009794571, 0.012399037, -0.018209, -0.014127927, -0.020909926, -0.006340501, -0.014075986, 0.016413327, 0.0073904493, -0.038614355, -0.030956782, 0.017852832, 0.008629611, -0.018372241, 0.018654207, -0.016665611, 0.025451045, 0.021785501, 0.0063738916, -0.065178424, -0.0020702162, 0.016428167, -0.0205686, -0.028804945, 0.0076798345, 0.0034281, 0.006897011, 0.0055576772, 0.004318516, -0.013200411, 0.036121193, -0.026564065, -0.04336324, -0.01826836, -0.02402638, 0.0073867394, -0.0143134305, -0.019025212, 0.0020535209, -0.011196976, 0.024367707, 0.018090276, 0.0074015795, 0.013044588, 0.010247199, -0.027721604, -0.0028140843, -0.010581105, -0.008644451, 0.0037453105, 0.0044261073, -0.02453095, 0.0060845064, -0.02459031, 0.0014181723, -0.006002885, 0.0025914803, 0.006930401, -0.0037045, 0.0072346264, 0.004630161, -0.012406457, 0.021592578, 0.022156507, 0.008458948, -0.0126068005, 0.0069860523, -0.015834557, 0.014840259, -0.028953347, -0.012413877, -0.034666847, 0.0029958775, 0.0039660595, 0.0029940223, -0.0028474748, 0.016977256, -0.033924833, 0.035586942, 0.0148254195, -0.0002548351, -0.0071196146, -0.018713567, -0.0021907934, -0.005030848, 0.009275163, -0.043214835, 0.024501268, 0.027083473, 0.0040254206, -0.012636481, -0.005093919, -0.0039178287, -0.010083957, -0.029294673, 0.023655374, 0.015893918, -0.025896253, 0.008050841, -0.030719338, -0.018134797, 0.00683394, -0.009215801, 0.0008792854, 0.0009080384, 0.026534384, 0.002051666, -0.022898521, 0.008184403, 0.007939539, 0.03028897, 0.008073101, -0.00797664, 0.0038324972, 0.035557263, -0.01487736, 0.0015712125, 0.006989762, 0.021963585, 0.0010972517, -0.002337341, 0.0020386807, 0.005672689, -0.00802116, -0.020449879, 0.022705598, 0.030749017, 0.004852765, -0.014461833, -0.009631328, -0.029398555, 0.0056318785, -0.00066502916, 0.015567432, 0.005201511, 0.03261889, 0.004455788, -0.0044854684, -0.0014970112, 0.0025209892, -0.0060845064, -0.01202061, 0.016799174, -0.002398557, -0.010544005, 0.009801991, -0.030659977, 0.005186671, 0.01488478, -0.00062097213, 0.012450978, -0.013608518, 0.01780831, 0.013081689, 7.333175e-05, -0.0016936447, 0.018119957, 0.0132894525, -0.0014970112, -0.036952246, -0.0015860527, -0.031164546, 0.0088967355, 0.006006595, 7.6809934e-05, 0.016324285, -0.037486497, 0.011887048, 0.015567432, -0.0056467187, -0.018105118, -0.013408175, 0.024857435, -0.018669046, 0.007549982, -0.0067003774, 0.023907658, -0.0077614556, 0.0036191684, 0.014194708, -0.0026526963, 0.0031943659, -0.0009785296, -0.0031869458, -0.01709598, -0.013408175, 0.011100514, -0.001428375, -0.018298041, -0.001200206, -0.010484643, -0.012339676, 0.026697626, 0.016235244, 0.012280315, 0.010803709, -0.01878777, 0.016784335, 0.014610236, 0.012465818, 0.014558295, -0.00401058, -0.0045299893, -0.002122157, 0.0048193745, -0.036239915, 0.004440948, 0.012376777, -0.02227523, -0.031758156, -0.007909859, -0.017066298, -0.012881345, -0.011538302, -0.013185571, -0.014543454, 0.005887873, 0.00800632, 0.0040291306, 0.0012196838, 0.008176983, 0.013905323, 0.015181585, 0.011582823, 0.020212434, 0.0010703538, -0.011976089, 0.00856283, -0.013356234, -0.031105185, 0.0032333215, -0.0048898654, -0.0062551694, 0.006169838, 0.009059979, -0.00860735, -0.00014318532, 0.05140666, -0.007130745, -0.010788869, -0.010640467, -0.017823152, 0.010499484, 0.011375059, 0.007672414, 0.0033872894, 0.029636, 0.016932737, 0.006459223, 0.01601264, -0.0062700096, 0.02162226, -0.00514586, 0.009646169, -6.6013067e-06, 0.023150805, -0.0029810371, 0.0077466154, 0.015864238, 0.01998983, -0.0004827722, -0.023358569, -0.008325386, -0.011523462, -0.00801374, 0.014944142, -0.039623495, 0.010328821, 0.00856283, 0.010321401, -0.00397719, -0.019158775, 0.009260322, -0.021310613, 0.011768326, -0.019158775, 0.01878777, -0.011538302, -0.0033409134, 0.015715836, -0.0041367225, -0.00054445205, -0.009853932, 0.019737545, -0.0015007212, -0.015226106, 0.0285675, 0.020806044, -0.0007684472, -0.045055028, 0.025258122, 0.012540019, -0.0018791478, -0.030659977, -0.007702095, -0.0062106485, -0.00071836135, 0.0344294, -0.0031943659, -0.0046227407, 0.020286635, -0.024694191, 0.0013764341, -0.010239779, 0.011775746, -0.016368806, 0.0217113, 0.029398555, -0.008147303, -0.0008125042, -0.002866025, 0.0029457915, 0.026385982, 0.032381445, 0.021043489, 0.009876193, -0.011486361, -0.03086774, 0.013311713, 0.03478557, -0.013371074, -0.0056875297, 0.0102843, -0.01031398, 0.007961799, -0.024085741, -0.009913294, 0.0057283402, 0.0065593948, -0.007835657, -0.03769426, 0.0029958775, 0.004055101, -0.0217113, -0.009074818, 0.008800274, -0.016917896, 0.0030422532, 0.006648436, 0.0070565436, 0.0032778424, -0.01604232, -0.009430985, 0.026638266, -0.016057162, -0.018164478, -0.004815664, -0.0024875985, -0.00514215, 0.006455513, -0.005999175, 0.028033251, -0.0023243558, 0.0030478183, 0.005405565, -0.011545722, -0.015522911, 0.0065964954, -0.02122157, 0.0065482645, -0.01662109, 0.0037045, 0.018639367, 0.014194708, -0.0010759188, -0.0100913765, 0.033538986, 0.032470487, 0.010150738, -0.011278598, -0.029784402, -0.0045262794, 0.0028678803, -0.0022111987, -0.022572035, 0.010662726, -0.029532116, 0.009868773, -0.009371624, 0.00314057, 0.016413327, -0.0046375813, 0.0097500505, -0.015745515, 0.011679284, 0.0067077973, 0.0077614556, 0.011152456, -0.01030656, -0.021874543, -0.013578838, 0.009267742, 0.015522911, 0.01202061, 0.0069341115, -0.010833389, -0.004674682, -0.015923599, -0.018164478, 0.003487461, -0.016917896, -0.005546547, -0.014046306, 0.008273445, 0.012354516, 0.012473239, 0.010744348, 0.047102984, 0.03181752, 0.004893576, 0.026638266, -0.02516908, -0.008629611, -0.008985777, -0.021473857, 0.0078059766, 0.0008528512, 0.0065334244, 0.003951219, -0.0050085876, -0.031758156, -0.027499001, 0.011182136, -0.012740363, 0.010595946, -0.010336241, -0.031164546, -0.00859993, 0.006058536, -0.0063145305, -0.0068153893, -0.0072346264, -0.0014274474, -0.014446992, 0.020998968, 0.01708114, 0.009876193, -0.027024113, -0.0078059766, -0.00024834246, 0.010158158, 0.019885948, 0.0028715902, -0.0068153893, -0.014194708, -0.015641633, 0.0049343864, -0.0073533487, -0.020078871, -0.0012382342, -0.026920231, 0.017466987, -0.018654207, -0.009675849, -0.004040261, 0.0054723457, -0.008288285, 0.0008356921, 0.027024113, -0.012688422, 0.027499001, -0.008102782, 0.0008472861, -0.0025265543, 0.002519134, 0.014194708, -0.019307178, 0.022631396, -0.0019663344, -0.007835657, 0.0052274815, 0.010002335, 0.014907041, 0.0050085876, -0.006963792, 0.01773411, 0.104950316, 0.0017057024, -0.011827687, -0.010625626, 0.011300858, -0.0020312606, 0.02681635, 0.0017492956, -0.0053350735, -0.026608586, 0.0055799377, 0.004515149, 0.015790036, -0.002912401, 0.03080838, -0.010202679, 0.0065334244, 0.008429267, 0.018594846, -0.0009131397, 0.0031090344, -0.013482376, -0.012955546, 0.010351081, 0.0075685326, -0.0062662996, 0.018298041, -0.02338825, 0.031016143, 0.021369973, -0.020865405, 5.2636547e-05, -0.012339676, 0.009772311, 0.011738646, 0.005197801, -0.010722088, -0.0033613187, -0.008132462, 0.0074572307, -0.02168162, 0.007857918, 0.031639434, 0.0016361387, -0.028968187, 0.0071159047, -0.0019533492, 0.0025933355, 0.005591068, -0.025035517, 0.0035635172, 0.013534317, 0.003036688, 0.004099622, 0.0052794223, 0.0144840935, 0.0068450696, -0.03935637, -0.0038250769, 0.0044335276, -0.0069378214, 0.00917128, 0.010684987, -0.011137615, -0.0129926475, -0.009430985, 0.0044186874, -0.0033520437, 0.013430435, 0.006804259, 0.00080972165, 0.012688422, 0.0027751285, -0.003207351, -0.0034614906, -0.0020924767, 0.002111027, 0.003494881, -0.0018439023, 0.018446444, 0.027276397, 0.015285468, 0.0019162486, 0.0023614564, -0.035854068, -0.006151288, -0.01025462, 0.006117897, -0.0068450696, 0.0014997937, -0.0070454134, -0.010781448, 0.005079079, 0.015226106, 0.0005481621, 0.0042591547, -0.0075277216, -0.011560562, -0.007371899, 0.009252902, 0.002354036, 0.015760357, 0.0011658879, -0.014639916, -0.0057097897, -0.010187838, 0.012517759, 0.0019106835, -0.01372724, 0.008273445, -0.012510339, -0.00797664, -0.03300474, 0.0009544142, -0.0048342147, -0.008258604, -0.008466369, 0.028137133, -0.0049306764, 0.00024208173, -0.0123099955, 0.013853382, -0.0077317753, 0.0046227407, -0.015359669, -0.019129096, -0.016903056, -0.008763174, -0.011011473, -0.012873925, 0.009809412, 0.0075574024, 0.026667947, -0.020672482, -0.015879078, -0.007783716, 0.00027547232, 0.020657642, 0.006106767, 0.0071678455, -0.0055242865, -0.007702095, -0.0007517519, 0.022156507, 0.0072457567, -0.0123099955, -0.0057580206, 0.016131362, 0.024427067, 0.015626794, 0.0049343864, 0.006403572, -0.022201028, -0.027038952, 0.015745515, 0.008139882, 0.0148699405, -0.004504019, -0.023699895, 0.010076536, 0.004722913, -0.008184403, -0.012629061, 0.009801991, 0.018461283, -0.012710682, 0.0251394, 0.0076501537, 0.014454413, 0.034666847, 0.012072551, -0.013608518, -0.015344828, -0.0027714185, -0.034221638, 0.017392784, -0.0009312263, -0.01771927, 0.020301476, -0.008733493, -0.006555685, -0.0028845754, -0.008985777, 0.007501751, 0.006039986, -0.0067671584, -0.018194158, 0.0070046023, 0.008058261, -0.012198693, 0.016057162, -0.0008310545, 0.020924766, 0.004708072, 0.010536584, -0.0060251453, -0.0061920984, 0.008317966, -0.012970387, -0.021562897, -0.011256337, -0.0029086908, -0.009275163, -0.019129096, -0.017288903, 0.004459498, 0.011708965, 0.013771761, -0.01887681, -0.014083407, -0.020108553, -0.00860735, 0.0074609406, 0.011204396, -0.0054575056, -0.00799148, 0.010462383, 0.0038807278, -0.017318582, 0.005869323, -0.0071530053, -0.006232909, -0.0127774635, 3.597024e-05, -0.007880178, -0.0060993466, -0.008154723, -0.004515149, 0.017229542, 0.018609686, -0.002168533, -0.005947234, 0.029843763, 0.014439573, 0.021815183, 0.00801374, -0.0037230502, -0.008332806, -0.012814565, 0.028270695, 0.02746932, -0.015344828, -0.022854, -0.012658741, 0.01991563, -0.0038733077, 0.026964752, -0.008266024, -0.001945929, -3.657892e-05, 0.0034744758, 0.006136447, 0.0009479216, 0.014061146, 0.011731225, -0.0067745787, 0.031847198, -0.0076278937, -0.012977807, -0.022764958, -0.0066410163, 0.010195258, 0.0016936447, -0.025406525, 0.0074498104, 0.005598488, -0.0052386117, 0.013044588, 0.014803159, 0.030333491, 0.013756921, 0.012243214, -0.021978425, 0.00457822, 0.0041367225, 0.011159875, -0.004381587, -0.0002877619, -0.00080137403, 0.019826587, -0.02622274, 0.0074164197, -0.00024834246, -0.0019644795, -0.0036173132, 0.0038733077, 0.019574303, 0.021369973, 0.005093919, -0.017496666, 0.0051755407, -0.007486911, 0.011271177, -0.0032722773, -0.013645619, 0.018609686, 0.0042072134, 0.011553142, 0.000642305, -0.01196125, -0.03134263, -0.0006464788, -0.01084081, 0.015374509, 0.016072001, 0.017867673, -0.010484643, 0.018565165, 0.0033576088, 0.00015883715, 0.011560562, -0.007238337, -0.019782066, 0.003433665, -0.009557127, -0.0012178288, -0.01258454, 0.0013541736, -0.014840259, -0.0024486429, 0.026578905, -0.0011278597, -0.02739512, -0.0065334244, 0.020138232, -0.04404589, 0.005090209, -0.0011491926, 0.00020405358, 0.026178218, 0.0004097303, 0.0024449327, -0.021577738, -0.008199244, -0.007613053, -0.009534867, 0.0042146337, 0.0049974574, 0.0043704566, -0.009764891, 6.434644e-05, -0.0074461005, 0.005431535, -0.014127927, -0.00092844374, 0.004782274, 0.002678667, -0.010833389, -0.011835107, -0.012681002, -0.0025599448, 0.004348196, 0.016799174, -0.011419579, 0.04683586, -0.0022074885, 0.00080554787, -0.014001785, -0.019693024, -0.007271727, 0.013653039, -0.0073347986, -0.011827687, 0.00016138783, 0.0033743042, 0.016264925, -0.0026768118, 0.0021536928, -0.008206664, 0.010477223, 0.011323119, 0.0073088277, 0.0042183436, -0.01596812, -0.010232359, -0.0031164545, -0.00034364476, 0.024605151, -0.014780899, 0.026727308, -0.0034058397, -0.005832222, -0.006414702, -0.0017928889, -0.020969287, 0.020880245, -0.004852765, 0.003092339, 0.00039164373, -0.005873033, 0.021043489, 0.0002525163, 0.009312263, -0.00014504035, 0.0006024218, 0.021518376, 0.012643902, 0.008881896, -0.0015192716, -0.003951219, -0.009623908, -0.010803709, 0.011078253, 0.009883613, 0.0006121607, -0.0149960825, -0.007579663, 0.0035820678, -0.0071270345, 0.021280933, -0.011516041, -0.014402472, 0.003821367, 0.0077391956, 0.008273445, 0.02233459, -0.017051458, 0.024872275, -0.012450978, -0.01259196, 0.0070565436, 0.013437855, -0.006010305, 0.010239779, 0.005297973, 0.0016964272, 0.017066298, -0.018624526, 0.010959532, -0.021933904, 0.026756989, -0.009846512, -0.004908416, 0.0059249736, -0.0027565781, 0.0078059766, -0.013593677, -0.0071381647, -0.028804945, 0.004734043, -0.005431535, 0.0073347986, 0.026430503, 0.009950394, 0.009809412, 0.0022334591, -0.0059138434, -0.0011547577, 0.0067819986, -0.008614771, -0.0022167638, -0.003713775, -0.002407832, 0.0075277216, -0.03523078, 0.009512606, 0.011679284, 0.01373466, 0.025243282, 0.008496049, 0.010529164, 0.027870007, -0.005220061, 0.0055391267, 0.015834557, 0.010373342, -0.01202061, -0.0020275505, -0.0046709715, 0.027766125, 0.010180418, -0.0049937475, -0.003255582, 0.0074461005, 0.025287803, 0.028270695, -0.008125043, -0.0017112674, 0.016205564, 0.026104016, 0.0007104774, -0.011315698, -0.029977325, 0.012784883, -0.010380762, 0.020672482, 0.014543454, -0.003090484, -0.0047637234, -0.008466369, 0.01144184, -0.014031465, 0.018372241, 0.005832222, -0.00084543106, 0.00026364648, -0.016917896, -0.012272894, -0.022779798, -0.0159978, 0.011256337, -0.0040773614, 0.015196426, -6.0056675e-05, 0.0012836824, 0.0014497079, -0.019158775, 0.019722706, 0.021340294, -0.032856334, -0.015144485, 0.038139466, -0.012332256, 0.004975197, 0.013074269, -0.0030496733, -0.0025617997, 0.020806044, -0.018713567, 0.011582823, -0.0033334934, 0.013578838, 0.015849397, 0.0010749913, -0.019054893, -0.0011946409, 0.021236412, -0.011130195, 0.00515328, 0.0017724835, 0.005939814, -0.0036915145, 0.022245549, 0.0056170383, 0.007149295, 0.0058581927, -0.008837375, 0.01084081, 0.0035523872, -0.030259289, -0.00090850214, -0.0085554095, 0.0072754375, -0.028671382, -0.0015248366, 0.012673582, -0.0035134314, -0.04324452, -0.010247199, -0.0059620743, -0.01543387, -0.0007406217, 0.030422533, -0.0020980418, 0.00011941772, -0.027231876, 0.008340226, 0.013979524, 0.009831672, -0.016784335, 0.026118858, -0.0020943317, -0.013074269, 0.002342906, 0.0012447268, 0.01944074, 0.02401154, 0.0064295423, -0.013920164, 0.004340776, -0.020138232, -0.017927034, -0.023759255, -0.00744239, -0.009868773, 0.0099207135, -0.008718653, 0.005435245, -0.00046352623, 0.013474956, -0.010610785, 0.006737478, -0.011501201, -0.0159978, 0.00743126, 0.015686154, -0.00053888693, 0.004682102, 0.02122157, -0.016680451, 0.016858535, -0.03724905, -0.00037819473, 0.010121057, 0.007197526, 0.009379044, -0.0019143935, 0.0048750252, -0.01086307, -0.0029903124, 0.0018040191, -0.0057431804, -0.0011881483, 0.000912676, -0.014127927, 0.019069733, -0.0052126413, 0.017274063, -0.012428718, 0.006585365, 0.020672482, -0.0037378904, -0.0012762623, -0.025540087, -0.0041552726, -0.01941106, -0.0037397454, -0.012747783, 0.008488628, 0.032589212, 0.0035579524, -0.01196125, 0.02800357, -0.0013782891, 0.00457822, 0.010751768, 0.003771281, 0.008963517, 0.030956782, 0.017541187, 0.018817449, -0.0046190307, -0.006340501, -0.006229199, -0.0021258672, 0.0015767775, -0.012169013, -0.0036840944, -0.02233459, 0.015893918, -0.008993197, 0.0047748536, -0.002630436, -0.0052720024, 0.009831672, -0.012666161, -0.025005838, 0.005531707, 0.003023703, 0.009905874, -0.015760357, -0.00043083128, -0.0017530057, -0.00097574707, -0.0205686, -0.0056318785, -0.005438955, 0.019796906, 0.017971555, -0.012369356, -0.009683269, -0.020835724, -0.008340226, 0.01366788, 0.0155971125, -0.0020479558, -0.008496049, 0.0016110957, -0.017066298, -0.0012734798, -0.012896186, -0.013816282, -0.00014921417, 0.019811748, 0.0047117826, 0.015804876, 0.010825969, -0.011953829, 0.0063034003, 0.0022946752, -0.008911576, 0.010224939, -0.016383646, 0.015700994, -7.188251e-06, -0.0050122975, 0.009898453, -0.019841427, 0.016947577, -0.0036896595, -0.003441085, -0.003962349, -0.023002403, 0.005327653, 0.01780831, -0.005379594, 0.0004329182, 0.0050419783, -0.020360837, 0.008948676, -0.01196125, 0.008258604, 0.0047934037, -0.0008338371, -0.0012744073, -0.015107384, 0.0012632771, -0.017363103, -0.0029346615, 0.0131633105, -0.015567432, -0.003027413, 0.008948676, 0.0057914113, 0.01544871, 0.0012660597, -0.010981793, -0.0054092747, 0.006800549, 0.0056430087, -0.012792304, -0.026653107, 0.0044186874, -0.012347096, 0.005438955, -0.020954447, 0.011605083, 0.00050225004, -0.010217519, 0.006518584, 0.0030793538, -0.02516908, 0.013645619, 0.0001445766, 0.0015554447, -0.002276125, 0.009653589, 0.00013750428, 0.0017502231, 0.02288368, 0.0046227407, 0.002051666, -0.015804876, -0.0028771553, 0.010247199, -0.01081113, -0.015537752, 0.018683886, -0.009111919, -0.017229542, 0.02402638, 0.0031071794, 0.020197593, -0.02680151, 0.012250634, -0.010165578, -0.0074683605, 0.0054092747, 0.016680451, 0.012836824, -0.0017261077, -0.0050011673, -0.026786668, 0.009935554, -0.010106217, 0.006073376, 0.0022575746, -0.023121124, -0.002617451, 0.0019867397, 0.00018851768, 0.016250085, 0.0064295423, 0.0044780485, -0.0021536928, -0.005049398, 6.556381e-05, 0.019307178, 0.015686154, 0.0023187906, 0.010358501, -0.0087260725, -0.016220404, -0.005795121, 0.014031465, 0.003932669, -0.012866505, -0.010202679, -0.0059175533, 0.0020442458, 0.01660625, 0.021874543, -0.022987563, -0.009638749, -0.010373342, 0.031787835, -0.008629611, -0.00044126585, 0.0029383714, 0.0018179318, 0.009319684, -0.0066076256, -0.007724355, -0.0039215386, 0.0074980413, 0.018223839, 0.010002335, -0.0037230502, -0.023863137, 0.0053387834, -0.022304911, -0.010106217, 0.01826836, -0.0083847465, 0.013341393, 0.0070120227, -0.008510889, 0.0024783234, 0.013445275, -0.008206664, 0.010195258, 0.0028827204, 0.0014487803, -0.0069452417, -0.014024045, 0.018209, -0.010046856, 0.0065927855, 0.007857918, -0.010959532, -0.016487528, 0.0004463672, -0.009445826, -0.023210166, 0.00256922, 0.016428167, -0.0072791474, 0.010477223, 0.017259222, 0.03591343, -0.009200961, 0.012903606, 0.0047674333, 0.006121607, 0.020182753, 0.0043741665, 0.002159258, 0.015819717, 0.012970387, -0.017511506, 0.008288285, 0.011263757, 0.015300307, 0.020538919, -0.02401154, 0.010009755, 0.0016908621, -0.003441085, -0.005379594, 0.0037082098, 0.008926416, -0.022586875, -0.028819785, -0.020761523, -0.027127994, 0.0008509961, -0.009074818, 0.018609686, 0.001744658, 0.005776571, -0.0012178288, 0.026549224, -0.00048462723, 0.021206731, -0.015359669, 0.010900171, -0.002971762, -0.00913418, 0.0087260725, 0.0042035035, -0.019826587, -0.009846512, -0.013497217, 0.012814565, -0.010098796, 0.0054092747, -0.0010147027, 0.012658741, 0.011820267, 0.002804809, 0.0011065268, 0.008310545, 0.00077030226, -0.013660459, 0.006897011, -0.013942424, 0.004693232, 0.00063581235, 0.003429955, -0.025213601, -0.01825352, 0.017274063, 0.015389349, -0.017036619, 0.007030573, -0.01200577, 0.017036619, 0.013259772, 0.0032926826, 0.008169563, -0.0024412228, 0.012962967, -0.0112860175, 0.0036173132, -0.007657574, -0.0028400547, 0.026118858, 0.012621641, -0.00033228268, -0.007538852, -0.010039436, 0.014053726, 0.008904155, -0.0049603567, 0.016769493, 0.011894468, -0.008970937, -0.022957882, 0.0071233246, -0.004170113, -0.0011148745, -0.007301408, -0.022037786, 0.009304843, -0.0062551694, 0.0003628907, -0.0049418067, -0.000916386, 0.017511506, 0.0020312606, -0.015686154, -0.003940089, -0.010551425, -0.01662109, 0.0055094464, -0.008184403, -0.018490963, 0.014046306, -0.0061475774, -0.004400137, -0.0053833043, 0.004281415, 0.009223222, -0.012977807, -0.018401923, -0.018416762, 0.0074164197, -0.0058656125, 0.015819717, -0.0023781515, 0.0036878046, 0.007193816, -0.00399945, 0.012131913, 0.005809962, -0.0071530053, -0.0062477496, 0.0036636891, 0.0036340086, -0.017867673, 0.010707247, 0.007490621, 0.010959532, 0.04057327, -0.023210166, -0.0046487115, -0.0068562, 0.008236344, 0.00092844374, 0.0042146337, -0.017556027, 0.028463619, 0.0032741323, -0.0024931636, 0.0045930604, 0.01951494, 0.017392784, 0.0022612845, -0.030199928, 0.019351698, 0.019737545, 4.633958e-06, -0.012940707, 0.00079488143, -0.007505461, -0.016131362, -0.0015137065, 0.018624526, 0.010796289, -0.0019681894, -0.013638198, 0.004103332, 0.005327653, 0.0037453105, -0.014402472, 0.002118447, -0.018164478, 0.01832772, -0.014513774, 0.024234144, 0.014276329, -0.002982892, -0.015582273, -0.005835932, 0.0065037436, -0.002235314, -0.0047043622, 0.00049204734, 0.0069675017, 0.011679284, 0.025005838, 0.010343661, -0.005535417, 0.0016018206, -0.017852832, -0.008444108, 0.02910175, -0.018817449, 0.011708965, -0.0076353136, -0.006244039, 0.027217036, -0.010039436, 0.0066706967, 0.0072272066, 0.013578838, -0.008881896, -0.01366788, -0.018387081, -0.015656473, -0.010818549, -0.011315698, 0.009631328, 0.010929851, 0.0131187895, -0.0016491238, 0.009905874, -0.0064406726, 0.010729508, 0.013482376, -0.0049343864, -0.0035857777, -0.008065681, 0.018550325, 0.009839092, 0.0028066642, -0.014513774, 0.0126513215, 0.00800632, 0.0274248, -0.008763174, -0.0073459283, 0.009512606, -0.013601098, 0.022482993, -0.0069489516, -0.019143935, -0.016190723, 0.0037898314, 0.020345995, 0.006043696, 0.0041997936, 0.015790036, 0.0028419096, 0.007260597, -0.01598296, 0.0075277216, 0.017036619, 0.004845345, -0.016413327, -0.01256228, 0.0274248, 0.006459223, -0.008132462, 0.009898453, 0.0034522153, 0.015129644, -0.006819099, -0.01832772, -0.01773411, -0.014543454, -0.0047006523, 0.021933904, -0.0046375813, -0.008785434, 0.0069007208, 0.015359669, -0.0017641359, -0.025302643, -0.017793471, 0.007197526, -0.00094374776, 0.017956715, -0.0019218136, -0.007961799, 0.011805426, -0.008488628, -0.0069860523, -0.0011705254, -0.003253727, -0.00860735, 0.009490346, -0.0020702162, -0.007768876, 0.0044817585, -0.0072346264, 0.00285304, 0.022839159, 0.0018874955, -0.019945309, 0.013081689, 0.0012243214, -0.004537409, 0.013052008, -0.025421364, -0.0019848847, -0.011100514, -0.011345378, -0.0014413602, -0.00860735, -0.0019273787, -0.011731225, -0.0065408447, 0.015700994, -0.010699827, -0.020197593, 0.008414427, 0.0033297832, -0.009942974, -0.010529164, 0.024219304, 0.00084172096, 0.0032351767, 0.008347646, 0.00854057, 0.008377327, -0.0053016827, -0.004674682, -0.010892751, 0.011634763, 0.0035523872, 0.008407007, 0.027677083, 0.026430503, -0.002519134, -0.0024894536, 0.007783716, 0.0027899689, 0.0102620395, -0.0021629678, -0.007034283, -0.0068710404, 0.007813397, 0.007783716, -4.4723674e-05, -0.0043556164, 0.013586258, -0.009905874, 0.010981793, 0.003090484, -0.011315698, 0.017407624, 0.0050716586, 0.0066669867, -0.01261422, -0.00020567673, 0.012183853, 0.007472071, -0.018817449, -0.011248916, -0.008340226, 0.010766609, 0.00915644, -0.009215801, 0.012488078, 0.0036878046, 0.03205496, -0.01311137, -0.013452696, -0.004288835, -0.010506904, -0.014090827, -0.016724972, 0.033034418, 0.015181585, -0.02746932, 0.0044335276, 0.0148254195, 0.0003376159, -0.042027615, -0.0032444517, 0.014639916, 0.011352799, -0.0057580206, 0.01257712, -0.00021425624, 0.009445826, -0.0019774646, 0.015626794, -0.0059175533, -0.01708114, -0.009052559, -0.012117072, 0.0027528682, -0.0067337677, 0.016843695, 0.003314943, -0.02233459, -0.013437855, -0.013986945, 0.003324218, 0.016294606, -0.0012855375, 0.0017585708, 0.002446788, 0.025243282, 0.013192991, 0.016279764, -0.0037898314, -0.0073533487, -0.008407007, 0.007271727, 0.033657707, -0.0003478186, -0.017066298, -0.009853932, 0.007193816, -0.0032759872, -0.0013180006, -0.018565165, -0.010321401, -0.011085674, -0.0051310197, -0.007969219, 0.005772861, -0.0038473373, 0.016101683, -0.0025358293, 0.004811954, 0.011857367, -0.014009205, -0.014053726, 0.0021574027, 0.008778013, -0.010121057, 0.0017780486, -0.011538302, -0.0049937475, -0.008258604, -0.01258454, 0.0029903124, 0.005331363, 0.00971295, 0.0018958432, -0.01376434, -0.023714734, -0.01317815, 0.00017877875, -0.007716935, -0.0066410163, -0.029814081, -0.004986327, 0.0015127789, -0.011597663, -0.007768876, -0.012666161, 0.0065482645, 0.012295155, -0.0026990722, 7.159266e-05, 0.021206731, 0.011300858, -0.0064295423, -0.025525246, -0.0171405, -0.023581173, 0.05594778, 0.020598281, 0.008362486, 0.0036636891, 0.008614771, -0.0077985562, 0.0015266917, 0.0004971487, -0.0031145995, -0.010736928, 0.015226106, 0.00043686014, 0.015730675, 0.009223222, 0.011226657, 0.0001877061, -0.027113155, 0.01662109, 0.0013615938, 0.0011065268, 0.0057988316, -0.012525179, 0.024234144, -0.008792854, -0.0019366539, -0.005390724, -0.0066410163, -0.0064332527, -0.006399862, -0.025777532, -0.0023818617, 0.006663277, -0.0046635517, -0.0006673479, 0.012540019, 0.01371982, 0.0042183436, 0.003255582, 0.0036080382, 0.007472071, -0.018401923, -0.0073867394, -0.0020423906, -0.0049380963, -0.03356867, -0.00096368935, -0.028181653, 0.013074269, 0.007023153, -0.008852215, -0.00860735, 0.007865338, 0.033034418, -0.033182822, 0.022126827, -0.005995465, -0.0009131397, -0.0056170383, 0.009059979, 0.02451611, 0.010032016, 0.0018392646, 0.0127774635, 0.005364754, 0.015715836, -0.015300307, 0.0066076256, -0.009586807, 0.00017564838, -0.01767475, 0.0056912396, 0.011567983, 0.015285468, -0.013986945, 0.018431602, 0.015819717, -0.006737478, 0.0037601509, 0.012280315, -0.020108553, -0.0077391956, -0.023833457, 0.011004052, -0.008288285, -0.004845345, -0.004504019, 0.01369756, 0.005201511, -0.016383646, -0.00029054447, 0.00684878, -0.008295706, -0.020227274, 0.011078253, 0.0022538644, 0.009193541, 0.0017057024, -0.014024045, -0.0041441424, -0.00256922, 0.004444658, 0.0026564065, -0.009356784, -0.003199931, 0.018238679, -0.027706765, 0.0039252485, 0.0002481106, -0.008139882, 0.011701545, -0.027098315, 0.003138715, -0.021577738, -0.028893985, -0.0019199586, -0.0017594983, 0.013037168, -0.013296872, 0.025970455, -0.015181585, -0.004678392, 0.010076536, 0.0024913086, -0.0068228096, -0.00012243215, 0.010351081, 0.013601098, 0.011894468, -0.0014005495, -0.02402638, 0.031550393, 0.0063182404, 0.015790036, -0.0038250769, 0.017437305, 0.0041923732, -0.010825969, -0.008243764, 0.0076501537, 0.009638749, 0.007813397, 0.013526897, 0.008236344, -0.009876193, -0.0065371343, -0.019366538, -0.0012697697, -0.002454208, 0.0018068017, 0.0045485394, 0.0009905873, 0.0038102367, -0.011004052, 0.016903056, 0.0050605284, -0.021251252, -0.019811748, 0.0058173817, -0.005249742, 0.004210924, 0.006232909, 0.011196976, 0.018817449, 0.0005351769, 0.019856267, -0.010403022, -0.016339125, -0.018520644, -0.0072754375, -0.010492063, 0.004641291, -0.008918996, -0.021577738, -0.0044854684, -0.0005504809, 0.017556027, 0.010017175, 0.018891651, -0.0023243558, 0.015211266, 0.011360219, 0.024219304, 0.005672689, 0.013237512, -0.015656473, -0.0059732045, -0.0011454825, 0.005939814, 0.014409892, -0.020316316, -0.0017066299, 0.013526897, 0.004952937, -0.015359669, -0.011953829, -0.018372241, -0.00016857608, -0.007835657, 0.022705598, 0.015285468, 0.025584608, 0.023655374, 0.004748883, -0.0038733077]\n"
     ]
    }
   ],
   "source": [
    "try:\n",
    "    embedding_response = openai.embeddings.create(\n",
    "        model=\"text-embedding-3-large\",  \n",
    "        input=assistant_message,\n",
    "        encoding_format=\"float\",\n",
    "    )\n",
    "    embedding_vector = embedding_response.data[0].embedding\n",
    "except Exception as e:\n",
    "    print(\"Error generating embedding:\", e)\n",
    "    embedding_vector = []\n",
    "\n",
    "print(\"\\n=== EMBEDDING ===\")\n",
    "print(embedding_vector)"
   ]
  }
 ],
 "metadata": {
  "kernelspec": {
   "display_name": "sbhacks",
   "language": "python",
   "name": "python3"
  },
  "language_info": {
   "codemirror_mode": {
    "name": "ipython",
    "version": 3
   },
   "file_extension": ".py",
   "mimetype": "text/x-python",
   "name": "python",
   "nbconvert_exporter": "python",
   "pygments_lexer": "ipython3",
   "version": "3.12.2"
  }
 },
 "nbformat": 4,
 "nbformat_minor": 2
}
