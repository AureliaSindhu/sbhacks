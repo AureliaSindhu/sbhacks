{
 "cells": [
  {
   "cell_type": "code",
   "execution_count": 10,
   "metadata": {},
   "outputs": [
    {
     "data": {
      "text/plain": [
       "True"
      ]
     },
     "execution_count": 10,
     "metadata": {},
     "output_type": "execute_result"
    }
   ],
   "source": [
    "import singlestoredb\n",
    "import json\n",
    "import numpy as np\n",
    "import sys\n",
    "import os\n",
    "import logging\n",
    "\n",
    "from dotenv import load_dotenv\n",
    "load_dotenv()"
   ]
  },
  {
   "cell_type": "code",
   "execution_count": 11,
   "metadata": {},
   "outputs": [],
   "source": [
    "logging.basicConfig(\n",
    "    level=logging.INFO,\n",
    "    format='%(asctime)s - %(levelname)s - %(message)s',\n",
    "    handlers=[\n",
    "        logging.StreamHandler(sys.stdout)\n",
    "    ]\n",
    ")"
   ]
  },
  {
   "cell_type": "code",
   "execution_count": 12,
   "metadata": {},
   "outputs": [],
   "source": [
    "# 1. Set Environment Variables\n",
    "HOST = os.getenv('SINGLESTORE_HOST')\n",
    "PORT = int(os.getenv('SINGLESTORE_PORT', 3306))\n",
    "USER = os.getenv('SINGLESTORE_USER')\n",
    "PASSWORD = os.getenv('SINGLESTORE_PASSWORD')\n",
    "DATABASE = os.getenv('SINGLESTORE_DATABASE')"
   ]
  },
  {
   "cell_type": "code",
   "execution_count": 13,
   "metadata": {},
   "outputs": [
    {
     "name": "stdout",
     "output_type": "stream",
     "text": [
      "svc-3482219c-a389-4079-b18b-d50662524e8a-shared-dml.aws-virginia-6.svc.singlestore.com 3333 sb 1qus8i7myhm3NUQS0TX0dFoge7lvA1ip db_aurelia_7d548\n"
     ]
    }
   ],
   "source": [
    "print(HOST, PORT, USER, PASSWORD, DATABASE)"
   ]
  },
  {
   "cell_type": "code",
   "execution_count": 14,
   "metadata": {},
   "outputs": [],
   "source": [
    "# Validate that all parameters are available\n",
    "if not all([HOST, PORT, USER, PASSWORD, DATABASE]):\n",
    "    logging.error(\"One or more environment variables for connection parameters are missing.\")\n",
    "    sys.exit(1)"
   ]
  },
  {
   "cell_type": "code",
   "execution_count": 15,
   "metadata": {},
   "outputs": [
    {
     "name": "stdout",
     "output_type": "stream",
     "text": [
      "2025-01-12 05:48:47,493 - INFO - Successfully connected to SingleStore.\n"
     ]
    }
   ],
   "source": [
    "# 3. Establish Connection to SingleStore\n",
    "try:\n",
    "    connection = singlestoredb.connect(\n",
    "        host=HOST,\n",
    "        port=PORT,\n",
    "        user=USER,\n",
    "        password=PASSWORD,\n",
    "        database=DATABASE\n",
    "    )\n",
    "    cursor = connection.cursor()\n",
    "    logging.info(\"Successfully connected to SingleStore.\")\n",
    "except singlestoredb.Error as e:\n",
    "    logging.error(f\"SingleStore Error: {e}\")\n",
    "    sys.exit(1)\n",
    "except Exception as e:\n",
    "    logging.error(f\"Unexpected Error: {e}\")\n",
    "    sys.exit(1)\n"
   ]
  },
  {
   "cell_type": "code",
   "execution_count": 16,
   "metadata": {},
   "outputs": [
    {
     "name": "stdout",
     "output_type": "stream",
     "text": [
      "2025-01-12 05:48:47,845 - INFO - Table 'vectors_table' is ready.\n"
     ]
    }
   ],
   "source": [
    "# 4. Create Table with Vector and Metadata Columns\n",
    "delete_table_query = \"\"\"\n",
    "DROP TABLE vectors_table;\n",
    "\"\"\"\n",
    "\n",
    "create_table_query = \"\"\"\n",
    "CREATE TABLE vectors_table (\n",
    "    id INT AUTO_INCREMENT PRIMARY KEY,\n",
    "    vector BLOB NOT NULL,\n",
    "    file_name VARCHAR(255) NOT NULL,\n",
    "    summary TEXT NOT NULL,\n",
    "    content TEXT NOT NULL\n",
    ");\n",
    "\"\"\"\n",
    "\n",
    "try:\n",
    "    cursor.execute(delete_table_query)\n",
    "    cursor.execute(create_table_query)\n",
    "    connection.commit()\n",
    "    logging.info(\"Table 'vectors_table' is ready.\")\n",
    "except singlestoredb.Error as e:\n",
    "    logging.error(f\"SingleStore Error while creating table: {e}\")\n",
    "    cursor.close()\n",
    "    connection.close()\n",
    "    sys.exit(1)\n",
    "except Exception as e:\n",
    "    logging.error(f\"Unexpected Error while creating table: {e}\")\n",
    "    cursor.close()\n",
    "    connection.close()\n",
    "    sys.exit(1)"
   ]
  },
  {
   "cell_type": "code",
   "execution_count": 17,
   "metadata": {},
   "outputs": [
    {
     "name": "stdout",
     "output_type": "stream",
     "text": [
      "2025-01-12 05:48:48,613 - INFO - Inserted 5 rows successfully into 'vectors_table'.\n"
     ]
    }
   ],
   "source": [
    "# 5. Prepare Multiple Vectors and Metadata for Bulk Insert\n",
    "vector_dimension = 3072 \n",
    "\n",
    "# Example list of vectors and metadata\n",
    "import json\n",
    "\n",
    "with open('result.json', 'r') as f:\n",
    "    vectors = json.load(f)\n",
    "\n",
    "data_to_insert = vectors\n",
    "\n",
    "# Prepare and format data for insertion\n",
    "formatted_data = []\n",
    "for data in data_to_insert:\n",
    "    vector = data[0]\n",
    "    file_name = data[1]\n",
    "    summary = data[2]\n",
    "    content = data[3]\n",
    "    \n",
    "    if len(vector) != vector_dimension:\n",
    "        logging.error(f\"Vector dimensionality mismatch: expected {vector_dimension}, got {len(vector)}\")\n",
    "        cursor.close()\n",
    "        connection.close()\n",
    "        sys.exit(1)\n",
    "    \n",
    "    # Ensure the vector is a JSON array\n",
    "    vector_json = json.dumps(vector)\n",
    "    formatted_data.append((vector_json, file_name, summary, content))\n",
    "\n",
    "# Bulk Insert Data into the Table\n",
    "insert_query = \"\"\"\n",
    "INSERT INTO vectors_table (vector, file_name, summary, content)\n",
    "VALUES (JSON_ARRAY_PACK(%s), %s, %s, %s);\n",
    "\"\"\"\n",
    "\n",
    "try:\n",
    "    cursor.executemany(insert_query, formatted_data)\n",
    "    connection.commit()\n",
    "    logging.info(f\"Inserted {cursor.rowcount} rows successfully into 'vectors_table'.\")\n",
    "except singlestoredb.Error as e:\n",
    "    logging.error(f\"SingleStore Error while inserting data: {e}\")\n",
    "    cursor.close()\n",
    "    connection.close()\n",
    "    sys.exit(1)\n",
    "except Exception as e:\n",
    "    logging.error(f\"Unexpected Error while inserting data: {e}\")\n",
    "    cursor.close()\n",
    "    connection.close()\n",
    "    sys.exit(1)"
   ]
  },
  {
   "cell_type": "code",
   "execution_count": 18,
   "metadata": {},
   "outputs": [],
   "source": [
    "# def search_vectors(query_vector, top_t=5):\n",
    "#     if isinstance(query_vector, np.ndarray):\n",
    "#         query_vector = query_vector.tolist()\n",
    "#     elif not isinstance(query_vector, list):\n",
    "#         logging.error(\"Query vector must be a list or numpy array.\")\n",
    "#         return []\n",
    "#     if len(query_vector) != vector_dimension:\n",
    "#         logging.error(f\"Vector dimensionality mismatch: expected {vector_dimension}, got {len(query_vector)}\")\n",
    "#         return []\n",
    "\n",
    "#     # Convert query vector to JSON array\n",
    "#     query_vector_json = json.dumps(query_vector)\n",
    "\n",
    "#     # SQL query to compute cosine similarity and retrieve top_t vectors\n",
    "#     # SingleStore's HNSW index optimizes this search\n",
    "#     search_query = \"\"\"\n",
    "#     SELECT \n",
    "#         id, \n",
    "#         dot_product(vector, JSON_ARRAY_PACK(%s)) AS similarity,\n",
    "#         file_name,\n",
    "#         summary,\n",
    "#         content\n",
    "#     FROM vectors_table\n",
    "#     ORDER BY similarity DESC\n",
    "#     LIMIT %s;\n",
    "#     \"\"\"\n",
    "#     try:\n",
    "#         cursor.execute(search_query, (query_vector_json, top_t))\n",
    "#         results = cursor.fetchall()\n",
    "#         return results\n",
    "#     except singlestoredb.Error as e:\n",
    "#         logging.error(f\"SingleStore Error while searching vectors: {e}\")\n",
    "#         return []\n",
    "#     except Exception as e:\n",
    "#         logging.error(f\"Unexpected Error while searching vectors: {e}\")\n",
    "#         return []\n",
    "\n",
    "# # 7. Mock a Search\n",
    "# def mock_search():\n",
    "#     query_vector = np.random.rand(vector_dimension).tolist()\n",
    "#     top_t = 3\n",
    "#     logging.info(\"Performing a mock search with a random query vector...\")\n",
    "#     logging.info(f\"Query vector: {query_vector}\")\n",
    "#     results = search_vectors(query_vector, top_t)\n",
    "#     if not results:\n",
    "#         logging.info(\"No results found.\")\n",
    "#         return\n",
    "#     logging.info(f\"Top {top_t} similar vectors:\")\n",
    "#     for row in results:\n",
    "#         vector_id, similarity, file_name, summary, content = row\n",
    "#         logging.info(f\"ID: {vector_id}, Similarity: {similarity:.4f}, File: {file_name}, Summary: {summary}\")\n",
    "\n",
    "# mock_search()\n",
    "\n",
    "# # 8. Clean Up\n",
    "# cursor.close()\n",
    "# connection.close()\n",
    "# logging.info(\"Connection to SingleStore closed.\")\n"
   ]
  }
 ],
 "metadata": {
  "kernelspec": {
   "display_name": "sbhacks2",
   "language": "python",
   "name": "python3"
  },
  "language_info": {
   "codemirror_mode": {
    "name": "ipython",
    "version": 3
   },
   "file_extension": ".py",
   "mimetype": "text/x-python",
   "name": "python",
   "nbconvert_exporter": "python",
   "pygments_lexer": "ipython3",
   "version": "3.12.2"
  }
 },
 "nbformat": 4,
 "nbformat_minor": 2
}
